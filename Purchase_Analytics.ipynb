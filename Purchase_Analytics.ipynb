{
  "nbformat": 4,
  "nbformat_minor": 0,
  "metadata": {
    "colab": {
      "name": "Purchase_Analytics.ipynb",
      "provenance": [],
      "collapsed_sections": [],
      "mount_file_id": "1zszEweqZzCbsvCRITqhFZUyiBVvzDpw0",
      "authorship_tag": "ABX9TyNdNJfRF21uC8sV7/bWCT3P",
      "include_colab_link": true
    },
    "kernelspec": {
      "name": "python3",
      "display_name": "Python 3"
    },
    "language_info": {
      "name": "python"
    }
  },
  "cells": [
    {
      "cell_type": "markdown",
      "metadata": {
        "id": "view-in-github",
        "colab_type": "text"
      },
      "source": [
        "<a href=\"https://colab.research.google.com/github/rajeevak40/Retail_Analytics/blob/main/Purchase_Analytics.ipynb\" target=\"_parent\"><img src=\"https://colab.research.google.com/assets/colab-badge.svg\" alt=\"Open In Colab\"/></a>"
      ]
    },
    {
      "cell_type": "markdown",
      "source": [
        "# Import Libraries"
      ],
      "metadata": {
        "id": "KYuZkXd2aAi6"
      }
    },
    {
      "cell_type": "code",
      "execution_count": 46,
      "metadata": {
        "id": "R6sPTQSDYq4K"
      },
      "outputs": [],
      "source": [
        "import numpy as np\n",
        "import pandas as pd\n",
        "from sklearn.preprocessing import StandardScaler\n",
        "from sklearn.decomposition import PCA\n",
        "from sklearn.cluster import KMeans\n",
        "import matplotlib.pyplot as plt\n",
        "import seaborn as sns\n",
        "sns.set()\n",
        "\n",
        "import pickle"
      ]
    },
    {
      "cell_type": "markdown",
      "source": [
        "# Data Import\n",
        "\n"
      ],
      "metadata": {
        "id": "xoWTMz2qaJYJ"
      }
    },
    {
      "cell_type": "code",
      "source": [
        "# Loading data\n",
        "df_purchase=pd.read_csv('/content/drive/MyDrive/Retail/purchase data.csv', index_col=0)\n"
      ],
      "metadata": {
        "id": "fJy99PiaaMkk"
      },
      "execution_count": 47,
      "outputs": []
    },
    {
      "cell_type": "markdown",
      "source": [
        "# Data Exploration"
      ],
      "metadata": {
        "id": "azoQBA-daOSb"
      }
    },
    {
      "cell_type": "code",
      "source": [
        "# Data Inspection\n",
        "df_purchase.head()"
      ],
      "metadata": {
        "colab": {
          "base_uri": "https://localhost:8080/",
          "height": 275
        },
        "id": "VEc_PWMpaRbg",
        "outputId": "94206798-657c-47a7-d631-1bd5cedf4e88"
      },
      "execution_count": 48,
      "outputs": [
        {
          "output_type": "execute_result",
          "data": {
            "text/html": [
              "<div>\n",
              "<style scoped>\n",
              "    .dataframe tbody tr th:only-of-type {\n",
              "        vertical-align: middle;\n",
              "    }\n",
              "\n",
              "    .dataframe tbody tr th {\n",
              "        vertical-align: top;\n",
              "    }\n",
              "\n",
              "    .dataframe thead th {\n",
              "        text-align: right;\n",
              "    }\n",
              "</style>\n",
              "<table border=\"1\" class=\"dataframe\">\n",
              "  <thead>\n",
              "    <tr style=\"text-align: right;\">\n",
              "      <th></th>\n",
              "      <th>Day</th>\n",
              "      <th>Incidence</th>\n",
              "      <th>Brand</th>\n",
              "      <th>Quantity</th>\n",
              "      <th>Last_Inc_Brand</th>\n",
              "      <th>Last_Inc_Quantity</th>\n",
              "      <th>Price_1</th>\n",
              "      <th>Price_2</th>\n",
              "      <th>Price_3</th>\n",
              "      <th>Price_4</th>\n",
              "      <th>Price_5</th>\n",
              "      <th>Promotion_1</th>\n",
              "      <th>Promotion_2</th>\n",
              "      <th>Promotion_3</th>\n",
              "      <th>Promotion_4</th>\n",
              "      <th>Promotion_5</th>\n",
              "      <th>Sex</th>\n",
              "      <th>Marital status</th>\n",
              "      <th>Age</th>\n",
              "      <th>Education</th>\n",
              "      <th>Income</th>\n",
              "      <th>Occupation</th>\n",
              "      <th>Settlement size</th>\n",
              "    </tr>\n",
              "    <tr>\n",
              "      <th>ID</th>\n",
              "      <th></th>\n",
              "      <th></th>\n",
              "      <th></th>\n",
              "      <th></th>\n",
              "      <th></th>\n",
              "      <th></th>\n",
              "      <th></th>\n",
              "      <th></th>\n",
              "      <th></th>\n",
              "      <th></th>\n",
              "      <th></th>\n",
              "      <th></th>\n",
              "      <th></th>\n",
              "      <th></th>\n",
              "      <th></th>\n",
              "      <th></th>\n",
              "      <th></th>\n",
              "      <th></th>\n",
              "      <th></th>\n",
              "      <th></th>\n",
              "      <th></th>\n",
              "      <th></th>\n",
              "      <th></th>\n",
              "    </tr>\n",
              "  </thead>\n",
              "  <tbody>\n",
              "    <tr>\n",
              "      <th>200000001</th>\n",
              "      <td>1</td>\n",
              "      <td>0</td>\n",
              "      <td>0</td>\n",
              "      <td>0</td>\n",
              "      <td>0</td>\n",
              "      <td>0</td>\n",
              "      <td>1.59</td>\n",
              "      <td>1.87</td>\n",
              "      <td>2.01</td>\n",
              "      <td>2.09</td>\n",
              "      <td>2.66</td>\n",
              "      <td>0</td>\n",
              "      <td>1</td>\n",
              "      <td>0</td>\n",
              "      <td>0</td>\n",
              "      <td>0</td>\n",
              "      <td>0</td>\n",
              "      <td>0</td>\n",
              "      <td>47</td>\n",
              "      <td>1</td>\n",
              "      <td>110866</td>\n",
              "      <td>1</td>\n",
              "      <td>0</td>\n",
              "    </tr>\n",
              "    <tr>\n",
              "      <th>200000001</th>\n",
              "      <td>11</td>\n",
              "      <td>0</td>\n",
              "      <td>0</td>\n",
              "      <td>0</td>\n",
              "      <td>0</td>\n",
              "      <td>0</td>\n",
              "      <td>1.51</td>\n",
              "      <td>1.89</td>\n",
              "      <td>1.99</td>\n",
              "      <td>2.09</td>\n",
              "      <td>2.66</td>\n",
              "      <td>0</td>\n",
              "      <td>0</td>\n",
              "      <td>0</td>\n",
              "      <td>0</td>\n",
              "      <td>0</td>\n",
              "      <td>0</td>\n",
              "      <td>0</td>\n",
              "      <td>47</td>\n",
              "      <td>1</td>\n",
              "      <td>110866</td>\n",
              "      <td>1</td>\n",
              "      <td>0</td>\n",
              "    </tr>\n",
              "    <tr>\n",
              "      <th>200000001</th>\n",
              "      <td>12</td>\n",
              "      <td>0</td>\n",
              "      <td>0</td>\n",
              "      <td>0</td>\n",
              "      <td>0</td>\n",
              "      <td>0</td>\n",
              "      <td>1.51</td>\n",
              "      <td>1.89</td>\n",
              "      <td>1.99</td>\n",
              "      <td>2.09</td>\n",
              "      <td>2.66</td>\n",
              "      <td>0</td>\n",
              "      <td>0</td>\n",
              "      <td>0</td>\n",
              "      <td>0</td>\n",
              "      <td>0</td>\n",
              "      <td>0</td>\n",
              "      <td>0</td>\n",
              "      <td>47</td>\n",
              "      <td>1</td>\n",
              "      <td>110866</td>\n",
              "      <td>1</td>\n",
              "      <td>0</td>\n",
              "    </tr>\n",
              "    <tr>\n",
              "      <th>200000001</th>\n",
              "      <td>16</td>\n",
              "      <td>0</td>\n",
              "      <td>0</td>\n",
              "      <td>0</td>\n",
              "      <td>0</td>\n",
              "      <td>0</td>\n",
              "      <td>1.52</td>\n",
              "      <td>1.89</td>\n",
              "      <td>1.98</td>\n",
              "      <td>2.09</td>\n",
              "      <td>2.66</td>\n",
              "      <td>0</td>\n",
              "      <td>0</td>\n",
              "      <td>0</td>\n",
              "      <td>0</td>\n",
              "      <td>0</td>\n",
              "      <td>0</td>\n",
              "      <td>0</td>\n",
              "      <td>47</td>\n",
              "      <td>1</td>\n",
              "      <td>110866</td>\n",
              "      <td>1</td>\n",
              "      <td>0</td>\n",
              "    </tr>\n",
              "    <tr>\n",
              "      <th>200000001</th>\n",
              "      <td>18</td>\n",
              "      <td>0</td>\n",
              "      <td>0</td>\n",
              "      <td>0</td>\n",
              "      <td>0</td>\n",
              "      <td>0</td>\n",
              "      <td>1.52</td>\n",
              "      <td>1.89</td>\n",
              "      <td>1.99</td>\n",
              "      <td>2.09</td>\n",
              "      <td>2.66</td>\n",
              "      <td>0</td>\n",
              "      <td>0</td>\n",
              "      <td>0</td>\n",
              "      <td>0</td>\n",
              "      <td>0</td>\n",
              "      <td>0</td>\n",
              "      <td>0</td>\n",
              "      <td>47</td>\n",
              "      <td>1</td>\n",
              "      <td>110866</td>\n",
              "      <td>1</td>\n",
              "      <td>0</td>\n",
              "    </tr>\n",
              "  </tbody>\n",
              "</table>\n",
              "</div>"
            ],
            "text/plain": [
              "           Day  Incidence  Brand  ...  Income  Occupation  Settlement size\n",
              "ID                                ...                                     \n",
              "200000001    1          0      0  ...  110866           1                0\n",
              "200000001   11          0      0  ...  110866           1                0\n",
              "200000001   12          0      0  ...  110866           1                0\n",
              "200000001   16          0      0  ...  110866           1                0\n",
              "200000001   18          0      0  ...  110866           1                0\n",
              "\n",
              "[5 rows x 23 columns]"
            ]
          },
          "metadata": {},
          "execution_count": 48
        }
      ]
    },
    {
      "cell_type": "code",
      "source": [
        "# Check for missing Vlaue\n",
        "df_purchase.isnull().sum()"
      ],
      "metadata": {
        "colab": {
          "base_uri": "https://localhost:8080/"
        },
        "id": "-rrQ1xQ1bY4F",
        "outputId": "56246886-7128-4f38-d5b3-3fb8591ab75e"
      },
      "execution_count": 49,
      "outputs": [
        {
          "output_type": "execute_result",
          "data": {
            "text/plain": [
              "Day                  0\n",
              "Incidence            0\n",
              "Brand                0\n",
              "Quantity             0\n",
              "Last_Inc_Brand       0\n",
              "Last_Inc_Quantity    0\n",
              "Price_1              0\n",
              "Price_2              0\n",
              "Price_3              0\n",
              "Price_4              0\n",
              "Price_5              0\n",
              "Promotion_1          0\n",
              "Promotion_2          0\n",
              "Promotion_3          0\n",
              "Promotion_4          0\n",
              "Promotion_5          0\n",
              "Sex                  0\n",
              "Marital status       0\n",
              "Age                  0\n",
              "Education            0\n",
              "Income               0\n",
              "Occupation           0\n",
              "Settlement size      0\n",
              "dtype: int64"
            ]
          },
          "metadata": {},
          "execution_count": 49
        }
      ]
    },
    {
      "cell_type": "markdown",
      "source": [
        "# Data Segmentation"
      ],
      "metadata": {
        "id": "ZuZLrQaik82r"
      }
    },
    {
      "cell_type": "markdown",
      "source": [
        "## Import modles from Segmentation"
      ],
      "metadata": {
        "id": "BlcTOirAk8QI"
      }
    },
    {
      "cell_type": "code",
      "source": [
        "scaler= pickle.load(open('/content/drive/MyDrive/Retail/scaler.pickle','rb'))\n",
        "\n",
        "pca= pickle.load(open('/content/drive/MyDrive/Retail/pca.pickle','rb'))\n",
        "kmean_pca= pickle.load(open('/content/drive/MyDrive/Retail/kmean_pca.pickle','rb'))\n"
      ],
      "metadata": {
        "id": "bnB9igXMbryM"
      },
      "execution_count": 50,
      "outputs": []
    },
    {
      "cell_type": "code",
      "source": [
        "df_purchase.columns.values"
      ],
      "metadata": {
        "colab": {
          "base_uri": "https://localhost:8080/"
        },
        "id": "tvEO7nLtlwIm",
        "outputId": "a85c0a21-ff5b-4fdb-9914-cd036097492b"
      },
      "execution_count": 51,
      "outputs": [
        {
          "output_type": "execute_result",
          "data": {
            "text/plain": [
              "array(['Day', 'Incidence', 'Brand', 'Quantity', 'Last_Inc_Brand',\n",
              "       'Last_Inc_Quantity', 'Price_1', 'Price_2', 'Price_3', 'Price_4',\n",
              "       'Price_5', 'Promotion_1', 'Promotion_2', 'Promotion_3',\n",
              "       'Promotion_4', 'Promotion_5', 'Sex', 'Marital status', 'Age',\n",
              "       'Education', 'Income', 'Occupation', 'Settlement size'],\n",
              "      dtype=object)"
            ]
          },
          "metadata": {},
          "execution_count": 51
        }
      ]
    },
    {
      "cell_type": "markdown",
      "source": [
        "## Standardization of data"
      ],
      "metadata": {
        "id": "c_tqwhLDlySH"
      }
    },
    {
      "cell_type": "code",
      "source": [
        "df_features= df_purchase[['Sex', 'Marital status', 'Age','Education', 'Income', 'Occupation', 'Settlement size']]\n",
        "df_features.head()"
      ],
      "metadata": {
        "colab": {
          "base_uri": "https://localhost:8080/",
          "height": 238
        },
        "id": "vxDDXYQ7l3f1",
        "outputId": "505ec390-912a-44ce-ccfc-38e3d9c8ec59"
      },
      "execution_count": 52,
      "outputs": [
        {
          "output_type": "execute_result",
          "data": {
            "text/html": [
              "<div>\n",
              "<style scoped>\n",
              "    .dataframe tbody tr th:only-of-type {\n",
              "        vertical-align: middle;\n",
              "    }\n",
              "\n",
              "    .dataframe tbody tr th {\n",
              "        vertical-align: top;\n",
              "    }\n",
              "\n",
              "    .dataframe thead th {\n",
              "        text-align: right;\n",
              "    }\n",
              "</style>\n",
              "<table border=\"1\" class=\"dataframe\">\n",
              "  <thead>\n",
              "    <tr style=\"text-align: right;\">\n",
              "      <th></th>\n",
              "      <th>Sex</th>\n",
              "      <th>Marital status</th>\n",
              "      <th>Age</th>\n",
              "      <th>Education</th>\n",
              "      <th>Income</th>\n",
              "      <th>Occupation</th>\n",
              "      <th>Settlement size</th>\n",
              "    </tr>\n",
              "    <tr>\n",
              "      <th>ID</th>\n",
              "      <th></th>\n",
              "      <th></th>\n",
              "      <th></th>\n",
              "      <th></th>\n",
              "      <th></th>\n",
              "      <th></th>\n",
              "      <th></th>\n",
              "    </tr>\n",
              "  </thead>\n",
              "  <tbody>\n",
              "    <tr>\n",
              "      <th>200000001</th>\n",
              "      <td>0</td>\n",
              "      <td>0</td>\n",
              "      <td>47</td>\n",
              "      <td>1</td>\n",
              "      <td>110866</td>\n",
              "      <td>1</td>\n",
              "      <td>0</td>\n",
              "    </tr>\n",
              "    <tr>\n",
              "      <th>200000001</th>\n",
              "      <td>0</td>\n",
              "      <td>0</td>\n",
              "      <td>47</td>\n",
              "      <td>1</td>\n",
              "      <td>110866</td>\n",
              "      <td>1</td>\n",
              "      <td>0</td>\n",
              "    </tr>\n",
              "    <tr>\n",
              "      <th>200000001</th>\n",
              "      <td>0</td>\n",
              "      <td>0</td>\n",
              "      <td>47</td>\n",
              "      <td>1</td>\n",
              "      <td>110866</td>\n",
              "      <td>1</td>\n",
              "      <td>0</td>\n",
              "    </tr>\n",
              "    <tr>\n",
              "      <th>200000001</th>\n",
              "      <td>0</td>\n",
              "      <td>0</td>\n",
              "      <td>47</td>\n",
              "      <td>1</td>\n",
              "      <td>110866</td>\n",
              "      <td>1</td>\n",
              "      <td>0</td>\n",
              "    </tr>\n",
              "    <tr>\n",
              "      <th>200000001</th>\n",
              "      <td>0</td>\n",
              "      <td>0</td>\n",
              "      <td>47</td>\n",
              "      <td>1</td>\n",
              "      <td>110866</td>\n",
              "      <td>1</td>\n",
              "      <td>0</td>\n",
              "    </tr>\n",
              "  </tbody>\n",
              "</table>\n",
              "</div>"
            ],
            "text/plain": [
              "           Sex  Marital status  Age  ...  Income  Occupation  Settlement size\n",
              "ID                                   ...                                     \n",
              "200000001    0               0   47  ...  110866           1                0\n",
              "200000001    0               0   47  ...  110866           1                0\n",
              "200000001    0               0   47  ...  110866           1                0\n",
              "200000001    0               0   47  ...  110866           1                0\n",
              "200000001    0               0   47  ...  110866           1                0\n",
              "\n",
              "[5 rows x 7 columns]"
            ]
          },
          "metadata": {},
          "execution_count": 52
        }
      ]
    },
    {
      "cell_type": "code",
      "source": [
        "df_purchase_segm_std=scaler.transform(df_features)\n",
        "df_purchase_segm_std"
      ],
      "metadata": {
        "id": "Gr84goQEqbpi",
        "colab": {
          "base_uri": "https://localhost:8080/"
        },
        "outputId": "abc80ef3-e995-4c7d-f2a7-b2b0add28593"
      },
      "execution_count": 53,
      "outputs": [
        {
          "output_type": "execute_result",
          "data": {
            "text/plain": [
              "array([[-9.17398837e-01, -9.93024329e-01,  9.46616002e-01, ...,\n",
              "        -2.64792791e-01,  2.96823025e-01, -9.09729514e-01],\n",
              "       [-9.17398837e-01, -9.93024329e-01,  9.46616002e-01, ...,\n",
              "        -2.64792791e-01,  2.96823025e-01, -9.09729514e-01],\n",
              "       [-9.17398837e-01, -9.93024329e-01,  9.46616002e-01, ...,\n",
              "        -2.64792791e-01,  2.96823025e-01, -9.09729514e-01],\n",
              "       ...,\n",
              "       [-9.17398837e-01, -9.93024329e-01,  5.19866384e-01, ...,\n",
              "        -2.20975210e-04,  2.96823025e-01, -9.09729514e-01],\n",
              "       [-9.17398837e-01, -9.93024329e-01,  5.19866384e-01, ...,\n",
              "        -2.20975210e-04,  2.96823025e-01, -9.09729514e-01],\n",
              "       [-9.17398837e-01, -9.93024329e-01,  5.19866384e-01, ...,\n",
              "        -2.20975210e-04,  2.96823025e-01, -9.09729514e-01]])"
            ]
          },
          "metadata": {},
          "execution_count": 53
        }
      ]
    },
    {
      "cell_type": "markdown",
      "source": [
        "## PCA"
      ],
      "metadata": {
        "id": "5EOgEcr9u7hG"
      }
    },
    {
      "cell_type": "code",
      "source": [
        "df_purchase_segm_pca=pca.transform(df_purchase_segm_std)\n",
        "df_purchase_segm_pca.shape"
      ],
      "metadata": {
        "id": "QkJTz5O4qitF",
        "colab": {
          "base_uri": "https://localhost:8080/"
        },
        "outputId": "ddeab377-d9ec-4915-b6e8-f530fee48fa3"
      },
      "execution_count": 54,
      "outputs": [
        {
          "output_type": "execute_result",
          "data": {
            "text/plain": [
              "(58693, 7)"
            ]
          },
          "metadata": {},
          "execution_count": 54
        }
      ]
    },
    {
      "cell_type": "markdown",
      "source": [
        "## KMeans PCA"
      ],
      "metadata": {
        "id": "j1U6spe0vImm"
      }
    },
    {
      "cell_type": "code",
      "source": [
        "kmean_pca.fit(df_purchase_segm_pca)"
      ],
      "metadata": {
        "colab": {
          "base_uri": "https://localhost:8080/"
        },
        "id": "Ov3Ci7XLhCkw",
        "outputId": "30e76c17-ce4d-4230-bfff-974ece1eb148"
      },
      "execution_count": 55,
      "outputs": [
        {
          "output_type": "execute_result",
          "data": {
            "text/plain": [
              "KMeans(n_clusters=4, random_state=42)"
            ]
          },
          "metadata": {},
          "execution_count": 55
        }
      ]
    },
    {
      "cell_type": "code",
      "source": [
        "purchase_segm_pca_kmean = kmean_pca.predict(df_purchase_segm_pca)\n",
        "purchase_segm_pca_kmean"
      ],
      "metadata": {
        "colab": {
          "base_uri": "https://localhost:8080/"
        },
        "id": "EztFFmhwvHw4",
        "outputId": "05476391-2f92-4644-9b42-de22cbf67ff2"
      },
      "execution_count": 56,
      "outputs": [
        {
          "output_type": "execute_result",
          "data": {
            "text/plain": [
              "array([2, 2, 2, ..., 2, 2, 2], dtype=int32)"
            ]
          },
          "metadata": {},
          "execution_count": 56
        }
      ]
    },
    {
      "cell_type": "code",
      "source": [
        "df_purchase_predictors= df_purchase.copy()\n",
        "df_purchase_predictors['Segment']= purchase_segm_pca_kmean"
      ],
      "metadata": {
        "id": "oycePZl_vXOl"
      },
      "execution_count": 57,
      "outputs": []
    },
    {
      "cell_type": "code",
      "source": [
        "df_purchase_predictors =df_purchase_predictors.reset_index()"
      ],
      "metadata": {
        "id": "vkJt_4-Gv4jo"
      },
      "execution_count": 58,
      "outputs": []
    },
    {
      "cell_type": "markdown",
      "source": [
        "# Descriptive Analysis by Segments\n",
        "\n",
        "## Data Analysis of customers"
      ],
      "metadata": {
        "id": "ff7_gqr7rtJL"
      }
    },
    {
      "cell_type": "code",
      "source": [
        "df_purchase_predictors.head()"
      ],
      "metadata": {
        "colab": {
          "base_uri": "https://localhost:8080/",
          "height": 244
        },
        "id": "28i0MfK7rq87",
        "outputId": "4de2e906-53c9-44ac-a8b7-9db502efb010"
      },
      "execution_count": 59,
      "outputs": [
        {
          "output_type": "execute_result",
          "data": {
            "text/html": [
              "<div>\n",
              "<style scoped>\n",
              "    .dataframe tbody tr th:only-of-type {\n",
              "        vertical-align: middle;\n",
              "    }\n",
              "\n",
              "    .dataframe tbody tr th {\n",
              "        vertical-align: top;\n",
              "    }\n",
              "\n",
              "    .dataframe thead th {\n",
              "        text-align: right;\n",
              "    }\n",
              "</style>\n",
              "<table border=\"1\" class=\"dataframe\">\n",
              "  <thead>\n",
              "    <tr style=\"text-align: right;\">\n",
              "      <th></th>\n",
              "      <th>ID</th>\n",
              "      <th>Day</th>\n",
              "      <th>Incidence</th>\n",
              "      <th>Brand</th>\n",
              "      <th>Quantity</th>\n",
              "      <th>Last_Inc_Brand</th>\n",
              "      <th>Last_Inc_Quantity</th>\n",
              "      <th>Price_1</th>\n",
              "      <th>Price_2</th>\n",
              "      <th>Price_3</th>\n",
              "      <th>Price_4</th>\n",
              "      <th>Price_5</th>\n",
              "      <th>Promotion_1</th>\n",
              "      <th>Promotion_2</th>\n",
              "      <th>Promotion_3</th>\n",
              "      <th>Promotion_4</th>\n",
              "      <th>Promotion_5</th>\n",
              "      <th>Sex</th>\n",
              "      <th>Marital status</th>\n",
              "      <th>Age</th>\n",
              "      <th>Education</th>\n",
              "      <th>Income</th>\n",
              "      <th>Occupation</th>\n",
              "      <th>Settlement size</th>\n",
              "      <th>Segment</th>\n",
              "    </tr>\n",
              "  </thead>\n",
              "  <tbody>\n",
              "    <tr>\n",
              "      <th>0</th>\n",
              "      <td>200000001</td>\n",
              "      <td>1</td>\n",
              "      <td>0</td>\n",
              "      <td>0</td>\n",
              "      <td>0</td>\n",
              "      <td>0</td>\n",
              "      <td>0</td>\n",
              "      <td>1.59</td>\n",
              "      <td>1.87</td>\n",
              "      <td>2.01</td>\n",
              "      <td>2.09</td>\n",
              "      <td>2.66</td>\n",
              "      <td>0</td>\n",
              "      <td>1</td>\n",
              "      <td>0</td>\n",
              "      <td>0</td>\n",
              "      <td>0</td>\n",
              "      <td>0</td>\n",
              "      <td>0</td>\n",
              "      <td>47</td>\n",
              "      <td>1</td>\n",
              "      <td>110866</td>\n",
              "      <td>1</td>\n",
              "      <td>0</td>\n",
              "      <td>2</td>\n",
              "    </tr>\n",
              "    <tr>\n",
              "      <th>1</th>\n",
              "      <td>200000001</td>\n",
              "      <td>11</td>\n",
              "      <td>0</td>\n",
              "      <td>0</td>\n",
              "      <td>0</td>\n",
              "      <td>0</td>\n",
              "      <td>0</td>\n",
              "      <td>1.51</td>\n",
              "      <td>1.89</td>\n",
              "      <td>1.99</td>\n",
              "      <td>2.09</td>\n",
              "      <td>2.66</td>\n",
              "      <td>0</td>\n",
              "      <td>0</td>\n",
              "      <td>0</td>\n",
              "      <td>0</td>\n",
              "      <td>0</td>\n",
              "      <td>0</td>\n",
              "      <td>0</td>\n",
              "      <td>47</td>\n",
              "      <td>1</td>\n",
              "      <td>110866</td>\n",
              "      <td>1</td>\n",
              "      <td>0</td>\n",
              "      <td>2</td>\n",
              "    </tr>\n",
              "    <tr>\n",
              "      <th>2</th>\n",
              "      <td>200000001</td>\n",
              "      <td>12</td>\n",
              "      <td>0</td>\n",
              "      <td>0</td>\n",
              "      <td>0</td>\n",
              "      <td>0</td>\n",
              "      <td>0</td>\n",
              "      <td>1.51</td>\n",
              "      <td>1.89</td>\n",
              "      <td>1.99</td>\n",
              "      <td>2.09</td>\n",
              "      <td>2.66</td>\n",
              "      <td>0</td>\n",
              "      <td>0</td>\n",
              "      <td>0</td>\n",
              "      <td>0</td>\n",
              "      <td>0</td>\n",
              "      <td>0</td>\n",
              "      <td>0</td>\n",
              "      <td>47</td>\n",
              "      <td>1</td>\n",
              "      <td>110866</td>\n",
              "      <td>1</td>\n",
              "      <td>0</td>\n",
              "      <td>2</td>\n",
              "    </tr>\n",
              "    <tr>\n",
              "      <th>3</th>\n",
              "      <td>200000001</td>\n",
              "      <td>16</td>\n",
              "      <td>0</td>\n",
              "      <td>0</td>\n",
              "      <td>0</td>\n",
              "      <td>0</td>\n",
              "      <td>0</td>\n",
              "      <td>1.52</td>\n",
              "      <td>1.89</td>\n",
              "      <td>1.98</td>\n",
              "      <td>2.09</td>\n",
              "      <td>2.66</td>\n",
              "      <td>0</td>\n",
              "      <td>0</td>\n",
              "      <td>0</td>\n",
              "      <td>0</td>\n",
              "      <td>0</td>\n",
              "      <td>0</td>\n",
              "      <td>0</td>\n",
              "      <td>47</td>\n",
              "      <td>1</td>\n",
              "      <td>110866</td>\n",
              "      <td>1</td>\n",
              "      <td>0</td>\n",
              "      <td>2</td>\n",
              "    </tr>\n",
              "    <tr>\n",
              "      <th>4</th>\n",
              "      <td>200000001</td>\n",
              "      <td>18</td>\n",
              "      <td>0</td>\n",
              "      <td>0</td>\n",
              "      <td>0</td>\n",
              "      <td>0</td>\n",
              "      <td>0</td>\n",
              "      <td>1.52</td>\n",
              "      <td>1.89</td>\n",
              "      <td>1.99</td>\n",
              "      <td>2.09</td>\n",
              "      <td>2.66</td>\n",
              "      <td>0</td>\n",
              "      <td>0</td>\n",
              "      <td>0</td>\n",
              "      <td>0</td>\n",
              "      <td>0</td>\n",
              "      <td>0</td>\n",
              "      <td>0</td>\n",
              "      <td>47</td>\n",
              "      <td>1</td>\n",
              "      <td>110866</td>\n",
              "      <td>1</td>\n",
              "      <td>0</td>\n",
              "      <td>2</td>\n",
              "    </tr>\n",
              "  </tbody>\n",
              "</table>\n",
              "</div>"
            ],
            "text/plain": [
              "          ID  Day  Incidence  ...  Occupation  Settlement size  Segment\n",
              "0  200000001    1          0  ...           1                0        2\n",
              "1  200000001   11          0  ...           1                0        2\n",
              "2  200000001   12          0  ...           1                0        2\n",
              "3  200000001   16          0  ...           1                0        2\n",
              "4  200000001   18          0  ...           1                0        2\n",
              "\n",
              "[5 rows x 25 columns]"
            ]
          },
          "metadata": {},
          "execution_count": 59
        }
      ]
    },
    {
      "cell_type": "code",
      "source": [
        "# Preparing temp dataset to analyse data sement wise.\n",
        "\n",
        "temp_1 = df_purchase_predictors[['ID', 'Incidence']].groupby(['ID']).count()\n",
        "temp_2 = df_purchase_predictors[['ID', 'Incidence']].groupby(['ID']).sum()\n",
        "temp_3 = df_purchase_predictors[['ID', 'Segment']].groupby(['ID']).mean()\n",
        "#temp_1= temp_1.set_index('ID')\n",
        "#temp_2= temp_2.set_index('ID')\n",
        "#temp_3= temp_3.set_index('ID')\n",
        "temp_1= temp_1.rename(columns={'Incidence': 'No_of_Visit'})\n",
        "temp_2= temp_2.rename(columns={'Incidence': 'No_of_Purchase'})\n",
        "temp_4=pd.concat([temp_1,temp_2,temp_3], axis=1)\n",
        "temp_4['Avg_No_Purchase']= temp_4['No_of_Purchase']/temp_4['No_of_Visit']\n",
        "print(temp_4.head())"
      ],
      "metadata": {
        "id": "3u7N5SHFwG5J",
        "colab": {
          "base_uri": "https://localhost:8080/"
        },
        "outputId": "8e74a513-afbb-462b-87c2-8469569c025c"
      },
      "execution_count": 60,
      "outputs": [
        {
          "output_type": "stream",
          "name": "stdout",
          "text": [
            "           No_of_Visit  No_of_Purchase  Segment  Avg_No_Purchase\n",
            "ID                                                              \n",
            "200000001          101               9        2         0.089109\n",
            "200000002           87              11        1         0.126437\n",
            "200000003           97              10        2         0.103093\n",
            "200000004           85              11        2         0.129412\n",
            "200000005          111              13        3         0.117117\n"
          ]
        }
      ]
    },
    {
      "cell_type": "markdown",
      "source": [
        "## Segment Proportion"
      ],
      "metadata": {
        "id": "ZkH6gNRt9aEU"
      }
    },
    {
      "cell_type": "code",
      "source": [
        "# Segment Proportion\n",
        "segm_prop= temp_4[['No_of_Purchase','Segment']].groupby(['Segment']).count()/temp_4.shape[0]\n",
        "segm_prop=segm_prop.rename(columns={'No_of_Purchase' :'Segment Proportion'})\n",
        "segm_prop.head()"
      ],
      "metadata": {
        "colab": {
          "base_uri": "https://localhost:8080/",
          "height": 206
        },
        "id": "khuISNWSwHsD",
        "outputId": "b9bf2f09-ec08-478b-e114-caa55b6e6fa5"
      },
      "execution_count": 61,
      "outputs": [
        {
          "output_type": "execute_result",
          "data": {
            "text/html": [
              "<div>\n",
              "<style scoped>\n",
              "    .dataframe tbody tr th:only-of-type {\n",
              "        vertical-align: middle;\n",
              "    }\n",
              "\n",
              "    .dataframe tbody tr th {\n",
              "        vertical-align: top;\n",
              "    }\n",
              "\n",
              "    .dataframe thead th {\n",
              "        text-align: right;\n",
              "    }\n",
              "</style>\n",
              "<table border=\"1\" class=\"dataframe\">\n",
              "  <thead>\n",
              "    <tr style=\"text-align: right;\">\n",
              "      <th></th>\n",
              "      <th>Segment Proportion</th>\n",
              "    </tr>\n",
              "    <tr>\n",
              "      <th>Segment</th>\n",
              "      <th></th>\n",
              "    </tr>\n",
              "  </thead>\n",
              "  <tbody>\n",
              "    <tr>\n",
              "      <th>0</th>\n",
              "      <td>0.294</td>\n",
              "    </tr>\n",
              "    <tr>\n",
              "      <th>1</th>\n",
              "      <td>0.192</td>\n",
              "    </tr>\n",
              "    <tr>\n",
              "      <th>2</th>\n",
              "      <td>0.310</td>\n",
              "    </tr>\n",
              "    <tr>\n",
              "      <th>3</th>\n",
              "      <td>0.204</td>\n",
              "    </tr>\n",
              "  </tbody>\n",
              "</table>\n",
              "</div>"
            ],
            "text/plain": [
              "         Segment Proportion\n",
              "Segment                    \n",
              "0                     0.294\n",
              "1                     0.192\n",
              "2                     0.310\n",
              "3                     0.204"
            ]
          },
          "metadata": {},
          "execution_count": 61
        }
      ]
    },
    {
      "cell_type": "code",
      "source": [
        "# Setting on pie plot\n",
        "plt.figure(figsize=(10,8))\n",
        "plt.pie(segm_prop['Segment Proportion'], labels =['Standard','Career Focused', 'Fewer Oppty', \"Well Off\"], autopct='%1.2f%%', colors= ['b','r','g','y'] )\n",
        "plt.title(\" Segment Distribution\")\n",
        "plt.show()"
      ],
      "metadata": {
        "colab": {
          "base_uri": "https://localhost:8080/",
          "height": 482
        },
        "id": "w9eTfI37wKpT",
        "outputId": "63e12af3-1c32-4404-afe9-d7dd9c427a95"
      },
      "execution_count": 62,
      "outputs": [
        {
          "output_type": "display_data",
          "data": {
            "image/png": "[encoded data removed]",
            "text/plain": [
              "<Figure size 720x576 with 1 Axes>"
            ]
          },
          "metadata": {}
        }
      ]
    },
    {
      "cell_type": "markdown",
      "source": [
        "## Purchase Occasion & Incidence\n",
        "\n",
        "Working on distribution on purchase occasions and purchase incidences. Hence Mean and Stdev segment wiese need to computed."
      ],
      "metadata": {
        "id": "h-XnWe_A9WNL"
      }
    },
    {
      "cell_type": "code",
      "source": [
        "temp_4.head()"
      ],
      "metadata": {
        "colab": {
          "base_uri": "https://localhost:8080/",
          "height": 238
        },
        "id": "87J-8C_n6dYb",
        "outputId": "bc7ded52-0033-4464-b1c2-e681bf0bbf5e"
      },
      "execution_count": 63,
      "outputs": [
        {
          "output_type": "execute_result",
          "data": {
            "text/html": [
              "<div>\n",
              "<style scoped>\n",
              "    .dataframe tbody tr th:only-of-type {\n",
              "        vertical-align: middle;\n",
              "    }\n",
              "\n",
              "    .dataframe tbody tr th {\n",
              "        vertical-align: top;\n",
              "    }\n",
              "\n",
              "    .dataframe thead th {\n",
              "        text-align: right;\n",
              "    }\n",
              "</style>\n",
              "<table border=\"1\" class=\"dataframe\">\n",
              "  <thead>\n",
              "    <tr style=\"text-align: right;\">\n",
              "      <th></th>\n",
              "      <th>No_of_Visit</th>\n",
              "      <th>No_of_Purchase</th>\n",
              "      <th>Segment</th>\n",
              "      <th>Avg_No_Purchase</th>\n",
              "    </tr>\n",
              "    <tr>\n",
              "      <th>ID</th>\n",
              "      <th></th>\n",
              "      <th></th>\n",
              "      <th></th>\n",
              "      <th></th>\n",
              "    </tr>\n",
              "  </thead>\n",
              "  <tbody>\n",
              "    <tr>\n",
              "      <th>200000001</th>\n",
              "      <td>101</td>\n",
              "      <td>9</td>\n",
              "      <td>2</td>\n",
              "      <td>0.089109</td>\n",
              "    </tr>\n",
              "    <tr>\n",
              "      <th>200000002</th>\n",
              "      <td>87</td>\n",
              "      <td>11</td>\n",
              "      <td>1</td>\n",
              "      <td>0.126437</td>\n",
              "    </tr>\n",
              "    <tr>\n",
              "      <th>200000003</th>\n",
              "      <td>97</td>\n",
              "      <td>10</td>\n",
              "      <td>2</td>\n",
              "      <td>0.103093</td>\n",
              "    </tr>\n",
              "    <tr>\n",
              "      <th>200000004</th>\n",
              "      <td>85</td>\n",
              "      <td>11</td>\n",
              "      <td>2</td>\n",
              "      <td>0.129412</td>\n",
              "    </tr>\n",
              "    <tr>\n",
              "      <th>200000005</th>\n",
              "      <td>111</td>\n",
              "      <td>13</td>\n",
              "      <td>3</td>\n",
              "      <td>0.117117</td>\n",
              "    </tr>\n",
              "  </tbody>\n",
              "</table>\n",
              "</div>"
            ],
            "text/plain": [
              "           No_of_Visit  No_of_Purchase  Segment  Avg_No_Purchase\n",
              "ID                                                              \n",
              "200000001          101               9        2         0.089109\n",
              "200000002           87              11        1         0.126437\n",
              "200000003           97              10        2         0.103093\n",
              "200000004           85              11        2         0.129412\n",
              "200000005          111              13        3         0.117117"
            ]
          },
          "metadata": {},
          "execution_count": 63
        }
      ]
    },
    {
      "cell_type": "code",
      "source": [
        "segment_mean=temp_4.groupby(['Segment']).mean()\n",
        "segment_mean.head()"
      ],
      "metadata": {
        "colab": {
          "base_uri": "https://localhost:8080/",
          "height": 206
        },
        "id": "qBEl6k72BRMs",
        "outputId": "3127cad7-9cd7-4e4e-d268-00f0b59db06f"
      },
      "execution_count": 64,
      "outputs": [
        {
          "output_type": "execute_result",
          "data": {
            "text/html": [
              "<div>\n",
              "<style scoped>\n",
              "    .dataframe tbody tr th:only-of-type {\n",
              "        vertical-align: middle;\n",
              "    }\n",
              "\n",
              "    .dataframe tbody tr th {\n",
              "        vertical-align: top;\n",
              "    }\n",
              "\n",
              "    .dataframe thead th {\n",
              "        text-align: right;\n",
              "    }\n",
              "</style>\n",
              "<table border=\"1\" class=\"dataframe\">\n",
              "  <thead>\n",
              "    <tr style=\"text-align: right;\">\n",
              "      <th></th>\n",
              "      <th>No_of_Visit</th>\n",
              "      <th>No_of_Purchase</th>\n",
              "      <th>Avg_No_Purchase</th>\n",
              "    </tr>\n",
              "    <tr>\n",
              "      <th>Segment</th>\n",
              "      <th></th>\n",
              "      <th></th>\n",
              "      <th></th>\n",
              "    </tr>\n",
              "  </thead>\n",
              "  <tbody>\n",
              "    <tr>\n",
              "      <th>0</th>\n",
              "      <td>115.387755</td>\n",
              "      <td>22.809524</td>\n",
              "      <td>0.200114</td>\n",
              "    </tr>\n",
              "    <tr>\n",
              "      <th>1</th>\n",
              "      <td>117.197917</td>\n",
              "      <td>34.843750</td>\n",
              "      <td>0.286459</td>\n",
              "    </tr>\n",
              "    <tr>\n",
              "      <th>2</th>\n",
              "      <td>114.516129</td>\n",
              "      <td>23.348387</td>\n",
              "      <td>0.205028</td>\n",
              "    </tr>\n",
              "    <tr>\n",
              "      <th>3</th>\n",
              "      <td>124.803922</td>\n",
              "      <td>42.362745</td>\n",
              "      <td>0.297449</td>\n",
              "    </tr>\n",
              "  </tbody>\n",
              "</table>\n",
              "</div>"
            ],
            "text/plain": [
              "         No_of_Visit  No_of_Purchase  Avg_No_Purchase\n",
              "Segment                                              \n",
              "0         115.387755       22.809524         0.200114\n",
              "1         117.197917       34.843750         0.286459\n",
              "2         114.516129       23.348387         0.205028\n",
              "3         124.803922       42.362745         0.297449"
            ]
          },
          "metadata": {},
          "execution_count": 64
        }
      ]
    },
    {
      "cell_type": "code",
      "source": [
        "segment_std=temp_4.groupby(['Segment']).std()\n",
        "segment_std.head()"
      ],
      "metadata": {
        "colab": {
          "base_uri": "https://localhost:8080/",
          "height": 206
        },
        "id": "R0MGerrXCjbw",
        "outputId": "fe15a42e-d8aa-4bad-c085-b0ca79244849"
      },
      "execution_count": 65,
      "outputs": [
        {
          "output_type": "execute_result",
          "data": {
            "text/html": [
              "<div>\n",
              "<style scoped>\n",
              "    .dataframe tbody tr th:only-of-type {\n",
              "        vertical-align: middle;\n",
              "    }\n",
              "\n",
              "    .dataframe tbody tr th {\n",
              "        vertical-align: top;\n",
              "    }\n",
              "\n",
              "    .dataframe thead th {\n",
              "        text-align: right;\n",
              "    }\n",
              "</style>\n",
              "<table border=\"1\" class=\"dataframe\">\n",
              "  <thead>\n",
              "    <tr style=\"text-align: right;\">\n",
              "      <th></th>\n",
              "      <th>No_of_Visit</th>\n",
              "      <th>No_of_Purchase</th>\n",
              "      <th>Avg_No_Purchase</th>\n",
              "    </tr>\n",
              "    <tr>\n",
              "      <th>Segment</th>\n",
              "      <th></th>\n",
              "      <th></th>\n",
              "      <th></th>\n",
              "    </tr>\n",
              "  </thead>\n",
              "  <tbody>\n",
              "    <tr>\n",
              "      <th>0</th>\n",
              "      <td>17.725629</td>\n",
              "      <td>12.670391</td>\n",
              "      <td>0.108776</td>\n",
              "    </tr>\n",
              "    <tr>\n",
              "      <th>1</th>\n",
              "      <td>20.903598</td>\n",
              "      <td>26.116068</td>\n",
              "      <td>0.173007</td>\n",
              "    </tr>\n",
              "    <tr>\n",
              "      <th>2</th>\n",
              "      <td>16.662952</td>\n",
              "      <td>14.462488</td>\n",
              "      <td>0.124453</td>\n",
              "    </tr>\n",
              "    <tr>\n",
              "      <th>3</th>\n",
              "      <td>46.415907</td>\n",
              "      <td>56.027184</td>\n",
              "      <td>0.209008</td>\n",
              "    </tr>\n",
              "  </tbody>\n",
              "</table>\n",
              "</div>"
            ],
            "text/plain": [
              "         No_of_Visit  No_of_Purchase  Avg_No_Purchase\n",
              "Segment                                              \n",
              "0          17.725629       12.670391         0.108776\n",
              "1          20.903598       26.116068         0.173007\n",
              "2          16.662952       14.462488         0.124453\n",
              "3          46.415907       56.027184         0.209008"
            ]
          },
          "metadata": {},
          "execution_count": 65
        }
      ]
    },
    {
      "cell_type": "markdown",
      "source": [
        "### Plotting them on bar chart for visualisation"
      ],
      "metadata": {
        "id": "HrGl7WozEDYY"
      }
    },
    {
      "cell_type": "code",
      "source": [
        "segment_mean.index.values"
      ],
      "metadata": {
        "colab": {
          "base_uri": "https://localhost:8080/"
        },
        "id": "BGEAoylqEjxZ",
        "outputId": "3209f8fb-45a6-46a9-d4b5-a627be6cf8e4"
      },
      "execution_count": 66,
      "outputs": [
        {
          "output_type": "execute_result",
          "data": {
            "text/plain": [
              "array([0, 1, 2, 3])"
            ]
          },
          "metadata": {},
          "execution_count": 66
        }
      ]
    },
    {
      "cell_type": "code",
      "source": [
        "#from matplotlib import ticker\n",
        "plt.figure(figsize=(10,8))\n",
        "plt.bar(x=(0,1,2,3), tick_label= ['Standard','Career Focused', 'Fewer Oppty', \"Well Off\"], \n",
        "        height=segment_mean['No_of_Visit'], yerr=segment_std['No_of_Visit'], color=['b','r','g','y'])\n",
        "plt.title('Segment wise Visit Distribution')\n",
        "plt.xlabel('Segments')\n",
        "plt.ylabel('Visit')\n",
        "plt.show()"
      ],
      "metadata": {
        "colab": {
          "base_uri": "https://localhost:8080/",
          "height": 518
        },
        "id": "aRz6IwrMDqZH",
        "outputId": "e6c7dfdf-1641-4ca5-c53d-aa87e8b34c20"
      },
      "execution_count": 67,
      "outputs": [
        {
          "output_type": "display_data",
          "data": {
            "image/png": "[encoded data removed]",
            "text/plain": [
              "<Figure size 720x576 with 1 Axes>"
            ]
          },
          "metadata": {}
        }
      ]
    },
    {
      "cell_type": "code",
      "source": [
        "plt.figure(figsize=(10,8))\n",
        "plt.bar(x=(0,1,2,3), tick_label= ['Standard','Career Focused', 'Fewer Oppty', \"Well Off\"], \n",
        "        height=segment_mean['No_of_Purchase'], yerr=segment_std['No_of_Purchase'], color=['b','r','g','y'])\n",
        "plt.title('Segment wise Purchase Distribution')\n",
        "plt.xlabel('Segments')\n",
        "plt.ylabel('Puchase')\n",
        "\n",
        "plt.show()"
      ],
      "metadata": {
        "colab": {
          "base_uri": "https://localhost:8080/",
          "height": 518
        },
        "id": "aKfdq_sOF58A",
        "outputId": "012ec9c3-cd7b-426c-ffef-9c05cf5f263c"
      },
      "execution_count": 68,
      "outputs": [
        {
          "output_type": "display_data",
          "data": {
            "image/png": "[encoded data removed]",
            "text/plain": [
              "<Figure size 720x576 with 1 Axes>"
            ]
          },
          "metadata": {}
        }
      ]
    },
    {
      "cell_type": "code",
      "source": [
        "plt.figure(figsize=(10,8))\n",
        "plt.bar(x=(0,1,2,3), tick_label= ['Standard','Career Focused', 'Fewer Oppty', \"Well Off\"], \n",
        "        height=segment_mean['Avg_No_Purchase'], yerr=segment_std['Avg_No_Purchase'], color=['b','r','g','y'])\n",
        "plt.title('Segment wise Average Purchase Distribution')\n",
        "plt.xlabel('Segments')\n",
        "plt.ylabel('Avg. Puchase')\n",
        "plt.show()"
      ],
      "metadata": {
        "colab": {
          "base_uri": "https://localhost:8080/",
          "height": 518
        },
        "id": "Hy-Dd6hYHKBs",
        "outputId": "8835e9d2-abfa-4593-bc28-2c097f6e2f85"
      },
      "execution_count": 69,
      "outputs": [
        {
          "output_type": "display_data",
          "data": {
            "image/png": "[encoded data removed]",
            "text/plain": [
              "<Figure size 720x576 with 1 Axes>"
            ]
          },
          "metadata": {}
        }
      ]
    },
    {
      "cell_type": "markdown",
      "source": [
        "### Brand Choice Analysis"
      ],
      "metadata": {
        "id": "4_2G0ybq7BxQ"
      }
    },
    {
      "cell_type": "code",
      "source": [
        "# Create puchase incidence dataframe\n",
        "df_purchase_incidence= df_purchase_predictors[df_purchase_predictors['Incidence']==1]\n",
        "df_purchase_incidence.head()"
      ],
      "metadata": {
        "id": "UWDdAHOeUsc8",
        "colab": {
          "base_uri": "https://localhost:8080/",
          "height": 244
        },
        "outputId": "ceb3e0d7-2dd5-4e13-b447-c605c2b10908"
      },
      "execution_count": 70,
      "outputs": [
        {
          "output_type": "execute_result",
          "data": {
            "text/html": [
              "<div>\n",
              "<style scoped>\n",
              "    .dataframe tbody tr th:only-of-type {\n",
              "        vertical-align: middle;\n",
              "    }\n",
              "\n",
              "    .dataframe tbody tr th {\n",
              "        vertical-align: top;\n",
              "    }\n",
              "\n",
              "    .dataframe thead th {\n",
              "        text-align: right;\n",
              "    }\n",
              "</style>\n",
              "<table border=\"1\" class=\"dataframe\">\n",
              "  <thead>\n",
              "    <tr style=\"text-align: right;\">\n",
              "      <th></th>\n",
              "      <th>ID</th>\n",
              "      <th>Day</th>\n",
              "      <th>Incidence</th>\n",
              "      <th>Brand</th>\n",
              "      <th>Quantity</th>\n",
              "      <th>Last_Inc_Brand</th>\n",
              "      <th>Last_Inc_Quantity</th>\n",
              "      <th>Price_1</th>\n",
              "      <th>Price_2</th>\n",
              "      <th>Price_3</th>\n",
              "      <th>Price_4</th>\n",
              "      <th>Price_5</th>\n",
              "      <th>Promotion_1</th>\n",
              "      <th>Promotion_2</th>\n",
              "      <th>Promotion_3</th>\n",
              "      <th>Promotion_4</th>\n",
              "      <th>Promotion_5</th>\n",
              "      <th>Sex</th>\n",
              "      <th>Marital status</th>\n",
              "      <th>Age</th>\n",
              "      <th>Education</th>\n",
              "      <th>Income</th>\n",
              "      <th>Occupation</th>\n",
              "      <th>Settlement size</th>\n",
              "      <th>Segment</th>\n",
              "    </tr>\n",
              "  </thead>\n",
              "  <tbody>\n",
              "    <tr>\n",
              "      <th>6</th>\n",
              "      <td>200000001</td>\n",
              "      <td>28</td>\n",
              "      <td>1</td>\n",
              "      <td>2</td>\n",
              "      <td>2</td>\n",
              "      <td>0</td>\n",
              "      <td>0</td>\n",
              "      <td>1.50</td>\n",
              "      <td>1.90</td>\n",
              "      <td>1.99</td>\n",
              "      <td>2.09</td>\n",
              "      <td>2.67</td>\n",
              "      <td>0</td>\n",
              "      <td>0</td>\n",
              "      <td>0</td>\n",
              "      <td>0</td>\n",
              "      <td>0</td>\n",
              "      <td>0</td>\n",
              "      <td>0</td>\n",
              "      <td>47</td>\n",
              "      <td>1</td>\n",
              "      <td>110866</td>\n",
              "      <td>1</td>\n",
              "      <td>0</td>\n",
              "      <td>2</td>\n",
              "    </tr>\n",
              "    <tr>\n",
              "      <th>11</th>\n",
              "      <td>200000001</td>\n",
              "      <td>58</td>\n",
              "      <td>1</td>\n",
              "      <td>5</td>\n",
              "      <td>1</td>\n",
              "      <td>0</td>\n",
              "      <td>0</td>\n",
              "      <td>1.39</td>\n",
              "      <td>1.90</td>\n",
              "      <td>1.91</td>\n",
              "      <td>2.12</td>\n",
              "      <td>2.62</td>\n",
              "      <td>1</td>\n",
              "      <td>0</td>\n",
              "      <td>0</td>\n",
              "      <td>0</td>\n",
              "      <td>1</td>\n",
              "      <td>0</td>\n",
              "      <td>0</td>\n",
              "      <td>47</td>\n",
              "      <td>1</td>\n",
              "      <td>110866</td>\n",
              "      <td>1</td>\n",
              "      <td>0</td>\n",
              "      <td>2</td>\n",
              "    </tr>\n",
              "    <tr>\n",
              "      <th>19</th>\n",
              "      <td>200000001</td>\n",
              "      <td>110</td>\n",
              "      <td>1</td>\n",
              "      <td>1</td>\n",
              "      <td>2</td>\n",
              "      <td>0</td>\n",
              "      <td>0</td>\n",
              "      <td>1.47</td>\n",
              "      <td>1.90</td>\n",
              "      <td>1.99</td>\n",
              "      <td>1.97</td>\n",
              "      <td>2.67</td>\n",
              "      <td>0</td>\n",
              "      <td>0</td>\n",
              "      <td>0</td>\n",
              "      <td>1</td>\n",
              "      <td>0</td>\n",
              "      <td>0</td>\n",
              "      <td>0</td>\n",
              "      <td>47</td>\n",
              "      <td>1</td>\n",
              "      <td>110866</td>\n",
              "      <td>1</td>\n",
              "      <td>0</td>\n",
              "      <td>2</td>\n",
              "    </tr>\n",
              "    <tr>\n",
              "      <th>24</th>\n",
              "      <td>200000001</td>\n",
              "      <td>142</td>\n",
              "      <td>1</td>\n",
              "      <td>4</td>\n",
              "      <td>1</td>\n",
              "      <td>0</td>\n",
              "      <td>0</td>\n",
              "      <td>1.21</td>\n",
              "      <td>1.35</td>\n",
              "      <td>1.99</td>\n",
              "      <td>2.16</td>\n",
              "      <td>2.68</td>\n",
              "      <td>1</td>\n",
              "      <td>1</td>\n",
              "      <td>0</td>\n",
              "      <td>0</td>\n",
              "      <td>0</td>\n",
              "      <td>0</td>\n",
              "      <td>0</td>\n",
              "      <td>47</td>\n",
              "      <td>1</td>\n",
              "      <td>110866</td>\n",
              "      <td>1</td>\n",
              "      <td>0</td>\n",
              "      <td>2</td>\n",
              "    </tr>\n",
              "    <tr>\n",
              "      <th>29</th>\n",
              "      <td>200000001</td>\n",
              "      <td>183</td>\n",
              "      <td>1</td>\n",
              "      <td>2</td>\n",
              "      <td>3</td>\n",
              "      <td>0</td>\n",
              "      <td>0</td>\n",
              "      <td>1.46</td>\n",
              "      <td>1.88</td>\n",
              "      <td>1.97</td>\n",
              "      <td>1.89</td>\n",
              "      <td>2.37</td>\n",
              "      <td>1</td>\n",
              "      <td>0</td>\n",
              "      <td>0</td>\n",
              "      <td>1</td>\n",
              "      <td>1</td>\n",
              "      <td>0</td>\n",
              "      <td>0</td>\n",
              "      <td>47</td>\n",
              "      <td>1</td>\n",
              "      <td>110866</td>\n",
              "      <td>1</td>\n",
              "      <td>0</td>\n",
              "      <td>2</td>\n",
              "    </tr>\n",
              "  </tbody>\n",
              "</table>\n",
              "</div>"
            ],
            "text/plain": [
              "           ID  Day  Incidence  ...  Occupation  Settlement size  Segment\n",
              "6   200000001   28          1  ...           1                0        2\n",
              "11  200000001   58          1  ...           1                0        2\n",
              "19  200000001  110          1  ...           1                0        2\n",
              "24  200000001  142          1  ...           1                0        2\n",
              "29  200000001  183          1  ...           1                0        2\n",
              "\n",
              "[5 rows x 25 columns]"
            ]
          },
          "metadata": {},
          "execution_count": 70
        }
      ]
    },
    {
      "cell_type": "code",
      "source": [
        "# Create Dummy Variable for Brand \n",
        "df_brand_dummy=pd.get_dummies(df_purchase_incidence['Brand'],prefix='Brand', prefix_sep='_')\n",
        "df_brand_dummy['Segment'], df_brand_dummy['ID']=df_purchase_incidence['Segment'],df_purchase_incidence['ID']\n",
        "df_brand_dummy.head()"
      ],
      "metadata": {
        "colab": {
          "base_uri": "https://localhost:8080/",
          "height": 206
        },
        "id": "UDaHdWEj9Kql",
        "outputId": "7561c50a-b5e3-4f40-9aca-24e1737c28b3"
      },
      "execution_count": 71,
      "outputs": [
        {
          "output_type": "execute_result",
          "data": {
            "text/html": [
              "<div>\n",
              "<style scoped>\n",
              "    .dataframe tbody tr th:only-of-type {\n",
              "        vertical-align: middle;\n",
              "    }\n",
              "\n",
              "    .dataframe tbody tr th {\n",
              "        vertical-align: top;\n",
              "    }\n",
              "\n",
              "    .dataframe thead th {\n",
              "        text-align: right;\n",
              "    }\n",
              "</style>\n",
              "<table border=\"1\" class=\"dataframe\">\n",
              "  <thead>\n",
              "    <tr style=\"text-align: right;\">\n",
              "      <th></th>\n",
              "      <th>Brand_1</th>\n",
              "      <th>Brand_2</th>\n",
              "      <th>Brand_3</th>\n",
              "      <th>Brand_4</th>\n",
              "      <th>Brand_5</th>\n",
              "      <th>Segment</th>\n",
              "      <th>ID</th>\n",
              "    </tr>\n",
              "  </thead>\n",
              "  <tbody>\n",
              "    <tr>\n",
              "      <th>6</th>\n",
              "      <td>0</td>\n",
              "      <td>1</td>\n",
              "      <td>0</td>\n",
              "      <td>0</td>\n",
              "      <td>0</td>\n",
              "      <td>2</td>\n",
              "      <td>200000001</td>\n",
              "    </tr>\n",
              "    <tr>\n",
              "      <th>11</th>\n",
              "      <td>0</td>\n",
              "      <td>0</td>\n",
              "      <td>0</td>\n",
              "      <td>0</td>\n",
              "      <td>1</td>\n",
              "      <td>2</td>\n",
              "      <td>200000001</td>\n",
              "    </tr>\n",
              "    <tr>\n",
              "      <th>19</th>\n",
              "      <td>1</td>\n",
              "      <td>0</td>\n",
              "      <td>0</td>\n",
              "      <td>0</td>\n",
              "      <td>0</td>\n",
              "      <td>2</td>\n",
              "      <td>200000001</td>\n",
              "    </tr>\n",
              "    <tr>\n",
              "      <th>24</th>\n",
              "      <td>0</td>\n",
              "      <td>0</td>\n",
              "      <td>0</td>\n",
              "      <td>1</td>\n",
              "      <td>0</td>\n",
              "      <td>2</td>\n",
              "      <td>200000001</td>\n",
              "    </tr>\n",
              "    <tr>\n",
              "      <th>29</th>\n",
              "      <td>0</td>\n",
              "      <td>1</td>\n",
              "      <td>0</td>\n",
              "      <td>0</td>\n",
              "      <td>0</td>\n",
              "      <td>2</td>\n",
              "      <td>200000001</td>\n",
              "    </tr>\n",
              "  </tbody>\n",
              "</table>\n",
              "</div>"
            ],
            "text/plain": [
              "    Brand_1  Brand_2  Brand_3  Brand_4  Brand_5  Segment         ID\n",
              "6         0        1        0        0        0        2  200000001\n",
              "11        0        0        0        0        1        2  200000001\n",
              "19        1        0        0        0        0        2  200000001\n",
              "24        0        0        0        1        0        2  200000001\n",
              "29        0        1        0        0        0        2  200000001"
            ]
          },
          "metadata": {},
          "execution_count": 71
        }
      ]
    },
    {
      "cell_type": "code",
      "source": [
        "# Groping by ID followed bt Segment\n",
        "temp= df_brand_dummy.groupby(['ID']).mean()\n",
        "segment_brand_choice= temp.groupby(['Segment']).mean()\n",
        "segment_brand_choice.head()"
      ],
      "metadata": {
        "colab": {
          "base_uri": "https://localhost:8080/",
          "height": 206
        },
        "id": "ph_N8C8m-SJ4",
        "outputId": "2fc5d588-a506-4faf-a75c-022f54dfba85"
      },
      "execution_count": 72,
      "outputs": [
        {
          "output_type": "execute_result",
          "data": {
            "text/html": [
              "<div>\n",
              "<style scoped>\n",
              "    .dataframe tbody tr th:only-of-type {\n",
              "        vertical-align: middle;\n",
              "    }\n",
              "\n",
              "    .dataframe tbody tr th {\n",
              "        vertical-align: top;\n",
              "    }\n",
              "\n",
              "    .dataframe thead th {\n",
              "        text-align: right;\n",
              "    }\n",
              "</style>\n",
              "<table border=\"1\" class=\"dataframe\">\n",
              "  <thead>\n",
              "    <tr style=\"text-align: right;\">\n",
              "      <th></th>\n",
              "      <th>Brand_1</th>\n",
              "      <th>Brand_2</th>\n",
              "      <th>Brand_3</th>\n",
              "      <th>Brand_4</th>\n",
              "      <th>Brand_5</th>\n",
              "    </tr>\n",
              "    <tr>\n",
              "      <th>Segment</th>\n",
              "      <th></th>\n",
              "      <th></th>\n",
              "      <th></th>\n",
              "      <th></th>\n",
              "      <th></th>\n",
              "    </tr>\n",
              "  </thead>\n",
              "  <tbody>\n",
              "    <tr>\n",
              "      <th>0</th>\n",
              "      <td>0.215311</td>\n",
              "      <td>0.486921</td>\n",
              "      <td>0.114515</td>\n",
              "      <td>0.063796</td>\n",
              "      <td>0.119456</td>\n",
              "    </tr>\n",
              "    <tr>\n",
              "      <th>1</th>\n",
              "      <td>0.042368</td>\n",
              "      <td>0.116830</td>\n",
              "      <td>0.029867</td>\n",
              "      <td>0.612163</td>\n",
              "      <td>0.198773</td>\n",
              "    </tr>\n",
              "    <tr>\n",
              "      <th>2</th>\n",
              "      <td>0.128701</td>\n",
              "      <td>0.665053</td>\n",
              "      <td>0.022835</td>\n",
              "      <td>0.070556</td>\n",
              "      <td>0.112854</td>\n",
              "    </tr>\n",
              "    <tr>\n",
              "      <th>3</th>\n",
              "      <td>0.081670</td>\n",
              "      <td>0.111416</td>\n",
              "      <td>0.041458</td>\n",
              "      <td>0.109559</td>\n",
              "      <td>0.655896</td>\n",
              "    </tr>\n",
              "  </tbody>\n",
              "</table>\n",
              "</div>"
            ],
            "text/plain": [
              "          Brand_1   Brand_2   Brand_3   Brand_4   Brand_5\n",
              "Segment                                                  \n",
              "0        0.215311  0.486921  0.114515  0.063796  0.119456\n",
              "1        0.042368  0.116830  0.029867  0.612163  0.198773\n",
              "2        0.128701  0.665053  0.022835  0.070556  0.112854\n",
              "3        0.081670  0.111416  0.041458  0.109559  0.655896"
            ]
          },
          "metadata": {},
          "execution_count": 72
        }
      ]
    },
    {
      "cell_type": "code",
      "source": [
        "# Visualise the data via heatmap\n",
        "plt.figure(figsize=(10,8))\n",
        "sns.heatmap(segment_brand_choice,vmin=0,vmax=1,cmap='BuPu', annot=True )\n",
        "plt.yticks([0,1,2,3], ['Standard', 'Career Focused', 'Fewer Opportunities', 'WellOff'], rotation=45)\n",
        "plt.title('Segment wise Brand Choice')\n",
        "plt.show()"
      ],
      "metadata": {
        "colab": {
          "base_uri": "https://localhost:8080/",
          "height": 507
        },
        "id": "1ES-rTdgBCX6",
        "outputId": "cfcfc833-fb31-43b8-8b78-3b0b0b73efbb"
      },
      "execution_count": 73,
      "outputs": [
        {
          "output_type": "display_data",
          "data": {
            "image/png": "[encoded data removed]",
            "text/plain": [
              "<Figure size 720x576 with 2 Axes>"
            ]
          },
          "metadata": {}
        }
      ]
    },
    {
      "cell_type": "markdown",
      "source": [
        "### Revenue computation\n",
        "Computation on Revenue for each brand"
      ],
      "metadata": {
        "id": "8kebIM8XSf8M"
      }
    },
    {
      "cell_type": "code",
      "source": [
        "df_purchase_incidence.head()"
      ],
      "metadata": {
        "colab": {
          "base_uri": "https://localhost:8080/",
          "height": 244
        },
        "id": "loCXnUXvXqHm",
        "outputId": "3e8c78eb-45aa-4054-8392-811de52cd6f6"
      },
      "execution_count": 81,
      "outputs": [
        {
          "output_type": "execute_result",
          "data": {
            "text/html": [
              "<div>\n",
              "<style scoped>\n",
              "    .dataframe tbody tr th:only-of-type {\n",
              "        vertical-align: middle;\n",
              "    }\n",
              "\n",
              "    .dataframe tbody tr th {\n",
              "        vertical-align: top;\n",
              "    }\n",
              "\n",
              "    .dataframe thead th {\n",
              "        text-align: right;\n",
              "    }\n",
              "</style>\n",
              "<table border=\"1\" class=\"dataframe\">\n",
              "  <thead>\n",
              "    <tr style=\"text-align: right;\">\n",
              "      <th></th>\n",
              "      <th>ID</th>\n",
              "      <th>Day</th>\n",
              "      <th>Incidence</th>\n",
              "      <th>Brand</th>\n",
              "      <th>Quantity</th>\n",
              "      <th>Last_Inc_Brand</th>\n",
              "      <th>Last_Inc_Quantity</th>\n",
              "      <th>Price_1</th>\n",
              "      <th>Price_2</th>\n",
              "      <th>Price_3</th>\n",
              "      <th>Price_4</th>\n",
              "      <th>Price_5</th>\n",
              "      <th>Promotion_1</th>\n",
              "      <th>Promotion_2</th>\n",
              "      <th>Promotion_3</th>\n",
              "      <th>Promotion_4</th>\n",
              "      <th>Promotion_5</th>\n",
              "      <th>Sex</th>\n",
              "      <th>Marital status</th>\n",
              "      <th>Age</th>\n",
              "      <th>Education</th>\n",
              "      <th>Income</th>\n",
              "      <th>Occupation</th>\n",
              "      <th>Settlement size</th>\n",
              "      <th>Segment</th>\n",
              "    </tr>\n",
              "  </thead>\n",
              "  <tbody>\n",
              "    <tr>\n",
              "      <th>6</th>\n",
              "      <td>200000001</td>\n",
              "      <td>28</td>\n",
              "      <td>1</td>\n",
              "      <td>2</td>\n",
              "      <td>2</td>\n",
              "      <td>0</td>\n",
              "      <td>0</td>\n",
              "      <td>1.50</td>\n",
              "      <td>1.90</td>\n",
              "      <td>1.99</td>\n",
              "      <td>2.09</td>\n",
              "      <td>2.67</td>\n",
              "      <td>0</td>\n",
              "      <td>0</td>\n",
              "      <td>0</td>\n",
              "      <td>0</td>\n",
              "      <td>0</td>\n",
              "      <td>0</td>\n",
              "      <td>0</td>\n",
              "      <td>47</td>\n",
              "      <td>1</td>\n",
              "      <td>110866</td>\n",
              "      <td>1</td>\n",
              "      <td>0</td>\n",
              "      <td>2</td>\n",
              "    </tr>\n",
              "    <tr>\n",
              "      <th>11</th>\n",
              "      <td>200000001</td>\n",
              "      <td>58</td>\n",
              "      <td>1</td>\n",
              "      <td>5</td>\n",
              "      <td>1</td>\n",
              "      <td>0</td>\n",
              "      <td>0</td>\n",
              "      <td>1.39</td>\n",
              "      <td>1.90</td>\n",
              "      <td>1.91</td>\n",
              "      <td>2.12</td>\n",
              "      <td>2.62</td>\n",
              "      <td>1</td>\n",
              "      <td>0</td>\n",
              "      <td>0</td>\n",
              "      <td>0</td>\n",
              "      <td>1</td>\n",
              "      <td>0</td>\n",
              "      <td>0</td>\n",
              "      <td>47</td>\n",
              "      <td>1</td>\n",
              "      <td>110866</td>\n",
              "      <td>1</td>\n",
              "      <td>0</td>\n",
              "      <td>2</td>\n",
              "    </tr>\n",
              "    <tr>\n",
              "      <th>19</th>\n",
              "      <td>200000001</td>\n",
              "      <td>110</td>\n",
              "      <td>1</td>\n",
              "      <td>1</td>\n",
              "      <td>2</td>\n",
              "      <td>0</td>\n",
              "      <td>0</td>\n",
              "      <td>1.47</td>\n",
              "      <td>1.90</td>\n",
              "      <td>1.99</td>\n",
              "      <td>1.97</td>\n",
              "      <td>2.67</td>\n",
              "      <td>0</td>\n",
              "      <td>0</td>\n",
              "      <td>0</td>\n",
              "      <td>1</td>\n",
              "      <td>0</td>\n",
              "      <td>0</td>\n",
              "      <td>0</td>\n",
              "      <td>47</td>\n",
              "      <td>1</td>\n",
              "      <td>110866</td>\n",
              "      <td>1</td>\n",
              "      <td>0</td>\n",
              "      <td>2</td>\n",
              "    </tr>\n",
              "    <tr>\n",
              "      <th>24</th>\n",
              "      <td>200000001</td>\n",
              "      <td>142</td>\n",
              "      <td>1</td>\n",
              "      <td>4</td>\n",
              "      <td>1</td>\n",
              "      <td>0</td>\n",
              "      <td>0</td>\n",
              "      <td>1.21</td>\n",
              "      <td>1.35</td>\n",
              "      <td>1.99</td>\n",
              "      <td>2.16</td>\n",
              "      <td>2.68</td>\n",
              "      <td>1</td>\n",
              "      <td>1</td>\n",
              "      <td>0</td>\n",
              "      <td>0</td>\n",
              "      <td>0</td>\n",
              "      <td>0</td>\n",
              "      <td>0</td>\n",
              "      <td>47</td>\n",
              "      <td>1</td>\n",
              "      <td>110866</td>\n",
              "      <td>1</td>\n",
              "      <td>0</td>\n",
              "      <td>2</td>\n",
              "    </tr>\n",
              "    <tr>\n",
              "      <th>29</th>\n",
              "      <td>200000001</td>\n",
              "      <td>183</td>\n",
              "      <td>1</td>\n",
              "      <td>2</td>\n",
              "      <td>3</td>\n",
              "      <td>0</td>\n",
              "      <td>0</td>\n",
              "      <td>1.46</td>\n",
              "      <td>1.88</td>\n",
              "      <td>1.97</td>\n",
              "      <td>1.89</td>\n",
              "      <td>2.37</td>\n",
              "      <td>1</td>\n",
              "      <td>0</td>\n",
              "      <td>0</td>\n",
              "      <td>1</td>\n",
              "      <td>1</td>\n",
              "      <td>0</td>\n",
              "      <td>0</td>\n",
              "      <td>47</td>\n",
              "      <td>1</td>\n",
              "      <td>110866</td>\n",
              "      <td>1</td>\n",
              "      <td>0</td>\n",
              "      <td>2</td>\n",
              "    </tr>\n",
              "  </tbody>\n",
              "</table>\n",
              "</div>"
            ],
            "text/plain": [
              "           ID  Day  Incidence  ...  Occupation  Settlement size  Segment\n",
              "6   200000001   28          1  ...           1                0        2\n",
              "11  200000001   58          1  ...           1                0        2\n",
              "19  200000001  110          1  ...           1                0        2\n",
              "24  200000001  142          1  ...           1                0        2\n",
              "29  200000001  183          1  ...           1                0        2\n",
              "\n",
              "[5 rows x 25 columns]"
            ]
          },
          "metadata": {},
          "execution_count": 81
        }
      ]
    },
    {
      "cell_type": "code",
      "source": [
        "no_of_brands=len(df_purchase_incidence['Brand'].unique())\n",
        "print(f\"No of Brands :\",no_of_brands )"
      ],
      "metadata": {
        "id": "1L-x-lMODbYy",
        "colab": {
          "base_uri": "https://localhost:8080/"
        },
        "outputId": "b9cfc9f6-4712-4d4a-f950-6e855ae921d9"
      },
      "execution_count": 80,
      "outputs": [
        {
          "output_type": "stream",
          "name": "stdout",
          "text": [
            "No of Brands : 5\n"
          ]
        }
      ]
    },
    {
      "cell_type": "code",
      "source": [
        "\n",
        "for ind in df_purchase_incidence.index:\n",
        "  price='Price_'+str(df_purchase_incidence['Brand'][ind])\n",
        "  rev_brand='Revenue_Brand_'+str(df_purchase_incidence['Brand'][ind])\n",
        "  print(price, rev_brand)\n",
        "  df_purchase_incidence[rev_brand]=df_purchase_incidence['Quantity']*df_purchase_incidence[price]\n"
      ],
      "metadata": {
        "id": "RW5V5BNBUPCl"
      },
      "execution_count": null,
      "outputs": []
    },
    {
      "cell_type": "code",
      "source": [
        "df_purchase_incidence.head()"
      ],
      "metadata": {
        "colab": {
          "base_uri": "https://localhost:8080/",
          "height": 244
        },
        "id": "jXjwhSi8zcZH",
        "outputId": "a97cfb87-b9f2-4d3a-8983-8e680d81dd33"
      },
      "execution_count": 125,
      "outputs": [
        {
          "output_type": "execute_result",
          "data": {
            "text/html": [
              "<div>\n",
              "<style scoped>\n",
              "    .dataframe tbody tr th:only-of-type {\n",
              "        vertical-align: middle;\n",
              "    }\n",
              "\n",
              "    .dataframe tbody tr th {\n",
              "        vertical-align: top;\n",
              "    }\n",
              "\n",
              "    .dataframe thead th {\n",
              "        text-align: right;\n",
              "    }\n",
              "</style>\n",
              "<table border=\"1\" class=\"dataframe\">\n",
              "  <thead>\n",
              "    <tr style=\"text-align: right;\">\n",
              "      <th></th>\n",
              "      <th>ID</th>\n",
              "      <th>Day</th>\n",
              "      <th>Incidence</th>\n",
              "      <th>Brand</th>\n",
              "      <th>Quantity</th>\n",
              "      <th>Last_Inc_Brand</th>\n",
              "      <th>Last_Inc_Quantity</th>\n",
              "      <th>Price_1</th>\n",
              "      <th>Price_2</th>\n",
              "      <th>Price_3</th>\n",
              "      <th>Price_4</th>\n",
              "      <th>Price_5</th>\n",
              "      <th>Promotion_1</th>\n",
              "      <th>Promotion_2</th>\n",
              "      <th>Promotion_3</th>\n",
              "      <th>Promotion_4</th>\n",
              "      <th>Promotion_5</th>\n",
              "      <th>Sex</th>\n",
              "      <th>Marital status</th>\n",
              "      <th>Age</th>\n",
              "      <th>Education</th>\n",
              "      <th>Income</th>\n",
              "      <th>Occupation</th>\n",
              "      <th>Settlement size</th>\n",
              "      <th>Segment</th>\n",
              "      <th>Revenue_Brand_2</th>\n",
              "      <th>Revenue_Brand_5</th>\n",
              "      <th>Revenue_Brand_1</th>\n",
              "      <th>Revenue_Brand_4</th>\n",
              "      <th>Revenue_Brand_3</th>\n",
              "    </tr>\n",
              "  </thead>\n",
              "  <tbody>\n",
              "    <tr>\n",
              "      <th>6</th>\n",
              "      <td>200000001</td>\n",
              "      <td>28</td>\n",
              "      <td>1</td>\n",
              "      <td>2</td>\n",
              "      <td>2</td>\n",
              "      <td>0</td>\n",
              "      <td>0</td>\n",
              "      <td>1.50</td>\n",
              "      <td>1.90</td>\n",
              "      <td>1.99</td>\n",
              "      <td>2.09</td>\n",
              "      <td>2.67</td>\n",
              "      <td>0</td>\n",
              "      <td>0</td>\n",
              "      <td>0</td>\n",
              "      <td>0</td>\n",
              "      <td>0</td>\n",
              "      <td>0</td>\n",
              "      <td>0</td>\n",
              "      <td>47</td>\n",
              "      <td>1</td>\n",
              "      <td>110866</td>\n",
              "      <td>1</td>\n",
              "      <td>0</td>\n",
              "      <td>2</td>\n",
              "      <td>3.80</td>\n",
              "      <td>5.34</td>\n",
              "      <td>3.00</td>\n",
              "      <td>4.18</td>\n",
              "      <td>3.98</td>\n",
              "    </tr>\n",
              "    <tr>\n",
              "      <th>11</th>\n",
              "      <td>200000001</td>\n",
              "      <td>58</td>\n",
              "      <td>1</td>\n",
              "      <td>5</td>\n",
              "      <td>1</td>\n",
              "      <td>0</td>\n",
              "      <td>0</td>\n",
              "      <td>1.39</td>\n",
              "      <td>1.90</td>\n",
              "      <td>1.91</td>\n",
              "      <td>2.12</td>\n",
              "      <td>2.62</td>\n",
              "      <td>1</td>\n",
              "      <td>0</td>\n",
              "      <td>0</td>\n",
              "      <td>0</td>\n",
              "      <td>1</td>\n",
              "      <td>0</td>\n",
              "      <td>0</td>\n",
              "      <td>47</td>\n",
              "      <td>1</td>\n",
              "      <td>110866</td>\n",
              "      <td>1</td>\n",
              "      <td>0</td>\n",
              "      <td>2</td>\n",
              "      <td>1.90</td>\n",
              "      <td>2.62</td>\n",
              "      <td>1.39</td>\n",
              "      <td>2.12</td>\n",
              "      <td>1.91</td>\n",
              "    </tr>\n",
              "    <tr>\n",
              "      <th>19</th>\n",
              "      <td>200000001</td>\n",
              "      <td>110</td>\n",
              "      <td>1</td>\n",
              "      <td>1</td>\n",
              "      <td>2</td>\n",
              "      <td>0</td>\n",
              "      <td>0</td>\n",
              "      <td>1.47</td>\n",
              "      <td>1.90</td>\n",
              "      <td>1.99</td>\n",
              "      <td>1.97</td>\n",
              "      <td>2.67</td>\n",
              "      <td>0</td>\n",
              "      <td>0</td>\n",
              "      <td>0</td>\n",
              "      <td>1</td>\n",
              "      <td>0</td>\n",
              "      <td>0</td>\n",
              "      <td>0</td>\n",
              "      <td>47</td>\n",
              "      <td>1</td>\n",
              "      <td>110866</td>\n",
              "      <td>1</td>\n",
              "      <td>0</td>\n",
              "      <td>2</td>\n",
              "      <td>3.80</td>\n",
              "      <td>5.34</td>\n",
              "      <td>2.94</td>\n",
              "      <td>3.94</td>\n",
              "      <td>3.98</td>\n",
              "    </tr>\n",
              "    <tr>\n",
              "      <th>24</th>\n",
              "      <td>200000001</td>\n",
              "      <td>142</td>\n",
              "      <td>1</td>\n",
              "      <td>4</td>\n",
              "      <td>1</td>\n",
              "      <td>0</td>\n",
              "      <td>0</td>\n",
              "      <td>1.21</td>\n",
              "      <td>1.35</td>\n",
              "      <td>1.99</td>\n",
              "      <td>2.16</td>\n",
              "      <td>2.68</td>\n",
              "      <td>1</td>\n",
              "      <td>1</td>\n",
              "      <td>0</td>\n",
              "      <td>0</td>\n",
              "      <td>0</td>\n",
              "      <td>0</td>\n",
              "      <td>0</td>\n",
              "      <td>47</td>\n",
              "      <td>1</td>\n",
              "      <td>110866</td>\n",
              "      <td>1</td>\n",
              "      <td>0</td>\n",
              "      <td>2</td>\n",
              "      <td>1.35</td>\n",
              "      <td>2.68</td>\n",
              "      <td>1.21</td>\n",
              "      <td>2.16</td>\n",
              "      <td>1.99</td>\n",
              "    </tr>\n",
              "    <tr>\n",
              "      <th>29</th>\n",
              "      <td>200000001</td>\n",
              "      <td>183</td>\n",
              "      <td>1</td>\n",
              "      <td>2</td>\n",
              "      <td>3</td>\n",
              "      <td>0</td>\n",
              "      <td>0</td>\n",
              "      <td>1.46</td>\n",
              "      <td>1.88</td>\n",
              "      <td>1.97</td>\n",
              "      <td>1.89</td>\n",
              "      <td>2.37</td>\n",
              "      <td>1</td>\n",
              "      <td>0</td>\n",
              "      <td>0</td>\n",
              "      <td>1</td>\n",
              "      <td>1</td>\n",
              "      <td>0</td>\n",
              "      <td>0</td>\n",
              "      <td>47</td>\n",
              "      <td>1</td>\n",
              "      <td>110866</td>\n",
              "      <td>1</td>\n",
              "      <td>0</td>\n",
              "      <td>2</td>\n",
              "      <td>5.64</td>\n",
              "      <td>7.11</td>\n",
              "      <td>4.38</td>\n",
              "      <td>5.67</td>\n",
              "      <td>5.91</td>\n",
              "    </tr>\n",
              "  </tbody>\n",
              "</table>\n",
              "</div>"
            ],
            "text/plain": [
              "           ID  Day  ...  Revenue_Brand_4  Revenue_Brand_3\n",
              "6   200000001   28  ...             4.18             3.98\n",
              "11  200000001   58  ...             2.12             1.91\n",
              "19  200000001  110  ...             3.94             3.98\n",
              "24  200000001  142  ...             2.16             1.99\n",
              "29  200000001  183  ...             5.67             5.91\n",
              "\n",
              "[5 rows x 30 columns]"
            ]
          },
          "metadata": {},
          "execution_count": 125
        }
      ]
    },
    {
      "cell_type": "code",
      "source": [
        ""
      ],
      "metadata": {
        "id": "mFnR-N-r2Mll"
      },
      "execution_count": null,
      "outputs": []
    }
  ]
}