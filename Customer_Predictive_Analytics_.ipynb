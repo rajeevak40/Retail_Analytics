{
  "nbformat": 4,
  "nbformat_minor": 0,
  "metadata": {
    "colab": {
      "name": "Customer_Predictive_Analytics .ipynb",
      "provenance": [],
      "collapsed_sections": [],
      "mount_file_id": "1BiIVIARRhlVmAQYxk69NXYlRHo0V6tk3",
      "authorship_tag": "ABX9TyMyAXKkXil5ZPs71TStPyws",
      "include_colab_link": true
    },
    "kernelspec": {
      "name": "python3",
      "display_name": "Python 3"
    },
    "language_info": {
      "name": "python"
    }
  },
  "cells": [
    {
      "cell_type": "markdown",
      "metadata": {
        "id": "view-in-github",
        "colab_type": "text"
      },
      "source": [
        "<a href=\"https://colab.research.google.com/github/rajeevak40/Retail_Analytics/blob/main/Customer_Predictive_Analytics_.ipynb\" target=\"_parent\"><img src=\"https://colab.research.google.com/assets/colab-badge.svg\" alt=\"Open In Colab\"/></a>"
      ]
    },
    {
      "cell_type": "markdown",
      "source": [
        "# Import Library"
      ],
      "metadata": {
        "id": "oHnmz9XQ2kbh"
      }
    },
    {
      "cell_type": "code",
      "execution_count": null,
      "metadata": {
        "id": "g0TQtIXS2PY0"
      },
      "outputs": [],
      "source": [
        "import numpy as np\n",
        "import pandas as pd\n",
        "from sklearn.preprocessing import StandardScaler\n",
        "from sklearn.decomposition import PCA\n",
        "from sklearn.cluster import KMeans\n",
        "import matplotlib.pyplot as plt\n",
        "import seaborn as sns\n",
        "sns.set()\n",
        "from sklearn.linear_model import LogisticRegression\n",
        "import matplotlib.pyplot as plt\n",
        "import seaborn as sns\n",
        "sns.set()\n",
        "import pickle\n",
        "\n"
      ]
    },
    {
      "cell_type": "markdown",
      "source": [
        "# Data Preparation"
      ],
      "metadata": {
        "id": "t605ZnsD2wjP"
      }
    },
    {
      "cell_type": "code",
      "source": [
        "# Loading data\n",
        "df_purchase=pd.read_csv('/content/drive/MyDrive/Retail/purchase data.csv', index_col=0)\n",
        "\n",
        "# importing pickel files\n",
        "scaler= pickle.load(open('/content/drive/MyDrive/Retail/scaler.pickle','rb'))\n",
        "pca= pickle.load(open('/content/drive/MyDrive/Retail/pca.pickle','rb'))\n",
        "kmean_pca= pickle.load(open('/content/drive/MyDrive/Retail/kmean_pca.pickle','rb'))\n",
        "\n",
        "# Column Filtering\n",
        "df_features= df_purchase[['Sex', 'Marital status', 'Age','Education', 'Income', 'Occupation', 'Settlement size']]\n",
        "\n",
        "# Scaling Data\n",
        "df_purchase_segm_std=scaler.transform(df_features)\n",
        "\n",
        "\n",
        "# PCA fitting\n",
        "df_purchase_segm_pca=pca.transform(df_purchase_segm_std)\n",
        "\n",
        "# KMeans Clustering\n",
        "purchase_segm_pca_kmean = kmean_pca.predict(df_purchase_segm_pca)\n",
        "\n",
        "# Create Purchase Predictor dataset \n",
        "df_purchase_predictors= df_purchase.copy()\n",
        "df_purchase_predictors['Segment']= purchase_segm_pca_kmean\n",
        "\n",
        "segment_dummies = pd.get_dummies(purchase_segm_pca_kmean, prefix='Segment', prefix_sep='_')\n",
        "df_purchase_predictors= df_purchase_predictors.reset_index()\n",
        "df_purchase_predictors=pd.concat([df_purchase_predictors, segment_dummies], axis=1)\n"
      ],
      "metadata": {
        "id": "YjVnsyT62vme"
      },
      "execution_count": null,
      "outputs": []
    },
    {
      "cell_type": "code",
      "source": [
        "df_purchase_predictors.head()\n"
      ],
      "metadata": {
        "colab": {
          "base_uri": "https://localhost:8080/",
          "height": 288
        },
        "id": "Dgu0Xzc5dSJd",
        "outputId": "ec3d6c0e-b9ee-4ff4-bbcc-9c2479200bf5"
      },
      "execution_count": null,
      "outputs": [
        {
          "output_type": "execute_result",
          "data": {
            "text/html": [
              "\n",
              "  <div id=\"df-394241da-e724-4910-b1b7-29bd1f88df25\">\n",
              "    <div class=\"colab-df-container\">\n",
              "      <div>\n",
              "<style scoped>\n",
              "    .dataframe tbody tr th:only-of-type {\n",
              "        vertical-align: middle;\n",
              "    }\n",
              "\n",
              "    .dataframe tbody tr th {\n",
              "        vertical-align: top;\n",
              "    }\n",
              "\n",
              "    .dataframe thead th {\n",
              "        text-align: right;\n",
              "    }\n",
              "</style>\n",
              "<table border=\"1\" class=\"dataframe\">\n",
              "  <thead>\n",
              "    <tr style=\"text-align: right;\">\n",
              "      <th></th>\n",
              "      <th>ID</th>\n",
              "      <th>Day</th>\n",
              "      <th>Incidence</th>\n",
              "      <th>Brand</th>\n",
              "      <th>Quantity</th>\n",
              "      <th>Last_Inc_Brand</th>\n",
              "      <th>Last_Inc_Quantity</th>\n",
              "      <th>Price_1</th>\n",
              "      <th>Price_2</th>\n",
              "      <th>Price_3</th>\n",
              "      <th>Price_4</th>\n",
              "      <th>Price_5</th>\n",
              "      <th>Promotion_1</th>\n",
              "      <th>Promotion_2</th>\n",
              "      <th>Promotion_3</th>\n",
              "      <th>Promotion_4</th>\n",
              "      <th>Promotion_5</th>\n",
              "      <th>Sex</th>\n",
              "      <th>Marital status</th>\n",
              "      <th>Age</th>\n",
              "      <th>Education</th>\n",
              "      <th>Income</th>\n",
              "      <th>Occupation</th>\n",
              "      <th>Settlement size</th>\n",
              "      <th>Segment</th>\n",
              "      <th>Segment_0</th>\n",
              "      <th>Segment_1</th>\n",
              "      <th>Segment_2</th>\n",
              "      <th>Segment_3</th>\n",
              "    </tr>\n",
              "  </thead>\n",
              "  <tbody>\n",
              "    <tr>\n",
              "      <th>0</th>\n",
              "      <td>200000001</td>\n",
              "      <td>1</td>\n",
              "      <td>0</td>\n",
              "      <td>0</td>\n",
              "      <td>0</td>\n",
              "      <td>0</td>\n",
              "      <td>0</td>\n",
              "      <td>1.59</td>\n",
              "      <td>1.87</td>\n",
              "      <td>2.01</td>\n",
              "      <td>2.09</td>\n",
              "      <td>2.66</td>\n",
              "      <td>0</td>\n",
              "      <td>1</td>\n",
              "      <td>0</td>\n",
              "      <td>0</td>\n",
              "      <td>0</td>\n",
              "      <td>0</td>\n",
              "      <td>0</td>\n",
              "      <td>47</td>\n",
              "      <td>1</td>\n",
              "      <td>110866</td>\n",
              "      <td>1</td>\n",
              "      <td>0</td>\n",
              "      <td>2</td>\n",
              "      <td>0</td>\n",
              "      <td>0</td>\n",
              "      <td>1</td>\n",
              "      <td>0</td>\n",
              "    </tr>\n",
              "    <tr>\n",
              "      <th>1</th>\n",
              "      <td>200000001</td>\n",
              "      <td>11</td>\n",
              "      <td>0</td>\n",
              "      <td>0</td>\n",
              "      <td>0</td>\n",
              "      <td>0</td>\n",
              "      <td>0</td>\n",
              "      <td>1.51</td>\n",
              "      <td>1.89</td>\n",
              "      <td>1.99</td>\n",
              "      <td>2.09</td>\n",
              "      <td>2.66</td>\n",
              "      <td>0</td>\n",
              "      <td>0</td>\n",
              "      <td>0</td>\n",
              "      <td>0</td>\n",
              "      <td>0</td>\n",
              "      <td>0</td>\n",
              "      <td>0</td>\n",
              "      <td>47</td>\n",
              "      <td>1</td>\n",
              "      <td>110866</td>\n",
              "      <td>1</td>\n",
              "      <td>0</td>\n",
              "      <td>2</td>\n",
              "      <td>0</td>\n",
              "      <td>0</td>\n",
              "      <td>1</td>\n",
              "      <td>0</td>\n",
              "    </tr>\n",
              "    <tr>\n",
              "      <th>2</th>\n",
              "      <td>200000001</td>\n",
              "      <td>12</td>\n",
              "      <td>0</td>\n",
              "      <td>0</td>\n",
              "      <td>0</td>\n",
              "      <td>0</td>\n",
              "      <td>0</td>\n",
              "      <td>1.51</td>\n",
              "      <td>1.89</td>\n",
              "      <td>1.99</td>\n",
              "      <td>2.09</td>\n",
              "      <td>2.66</td>\n",
              "      <td>0</td>\n",
              "      <td>0</td>\n",
              "      <td>0</td>\n",
              "      <td>0</td>\n",
              "      <td>0</td>\n",
              "      <td>0</td>\n",
              "      <td>0</td>\n",
              "      <td>47</td>\n",
              "      <td>1</td>\n",
              "      <td>110866</td>\n",
              "      <td>1</td>\n",
              "      <td>0</td>\n",
              "      <td>2</td>\n",
              "      <td>0</td>\n",
              "      <td>0</td>\n",
              "      <td>1</td>\n",
              "      <td>0</td>\n",
              "    </tr>\n",
              "    <tr>\n",
              "      <th>3</th>\n",
              "      <td>200000001</td>\n",
              "      <td>16</td>\n",
              "      <td>0</td>\n",
              "      <td>0</td>\n",
              "      <td>0</td>\n",
              "      <td>0</td>\n",
              "      <td>0</td>\n",
              "      <td>1.52</td>\n",
              "      <td>1.89</td>\n",
              "      <td>1.98</td>\n",
              "      <td>2.09</td>\n",
              "      <td>2.66</td>\n",
              "      <td>0</td>\n",
              "      <td>0</td>\n",
              "      <td>0</td>\n",
              "      <td>0</td>\n",
              "      <td>0</td>\n",
              "      <td>0</td>\n",
              "      <td>0</td>\n",
              "      <td>47</td>\n",
              "      <td>1</td>\n",
              "      <td>110866</td>\n",
              "      <td>1</td>\n",
              "      <td>0</td>\n",
              "      <td>2</td>\n",
              "      <td>0</td>\n",
              "      <td>0</td>\n",
              "      <td>1</td>\n",
              "      <td>0</td>\n",
              "    </tr>\n",
              "    <tr>\n",
              "      <th>4</th>\n",
              "      <td>200000001</td>\n",
              "      <td>18</td>\n",
              "      <td>0</td>\n",
              "      <td>0</td>\n",
              "      <td>0</td>\n",
              "      <td>0</td>\n",
              "      <td>0</td>\n",
              "      <td>1.52</td>\n",
              "      <td>1.89</td>\n",
              "      <td>1.99</td>\n",
              "      <td>2.09</td>\n",
              "      <td>2.66</td>\n",
              "      <td>0</td>\n",
              "      <td>0</td>\n",
              "      <td>0</td>\n",
              "      <td>0</td>\n",
              "      <td>0</td>\n",
              "      <td>0</td>\n",
              "      <td>0</td>\n",
              "      <td>47</td>\n",
              "      <td>1</td>\n",
              "      <td>110866</td>\n",
              "      <td>1</td>\n",
              "      <td>0</td>\n",
              "      <td>2</td>\n",
              "      <td>0</td>\n",
              "      <td>0</td>\n",
              "      <td>1</td>\n",
              "      <td>0</td>\n",
              "    </tr>\n",
              "  </tbody>\n",
              "</table>\n",
              "</div>\n",
              "      <button class=\"colab-df-convert\" onclick=\"convertToInteractive('df-394241da-e724-4910-b1b7-29bd1f88df25')\"\n",
              "              title=\"Convert this dataframe to an interactive table.\"\n",
              "              style=\"display:none;\">\n",
              "        \n",
              "  <svg xmlns=\"http://www.w3.org/2000/svg\" height=\"24px\"viewBox=\"0 0 24 24\"\n",
              "       width=\"24px\">\n",
              "    <path d=\"M0 0h24v24H0V0z\" fill=\"none\"/>\n",
              "    <path d=\"M18.56 5.44l.94 2.06.94-2.06 2.06-.94-2.06-.94-.94-2.06-.94 2.06-2.06.94zm-11 1L8.5 8.5l.94-2.06 2.06-.94-2.06-.94L8.5 2.5l-.94 2.06-2.06.94zm10 10l.94 2.06.94-2.06 2.06-.94-2.06-.94-.94-2.06-.94 2.06-2.06.94z\"/><path d=\"M17.41 7.96l-1.37-1.37c-.4-.4-.92-.59-1.43-.59-.52 0-1.04.2-1.43.59L10.3 9.45l-7.72 7.72c-.78.78-.78 2.05 0 2.83L4 21.41c.39.39.9.59 1.41.59.51 0 1.02-.2 1.41-.59l7.78-7.78 2.81-2.81c.8-.78.8-2.07 0-2.86zM5.41 20L4 18.59l7.72-7.72 1.47 1.35L5.41 20z\"/>\n",
              "  </svg>\n",
              "      </button>\n",
              "      \n",
              "  <style>\n",
              "    .colab-df-container {\n",
              "      display:flex;\n",
              "      flex-wrap:wrap;\n",
              "      gap: 12px;\n",
              "    }\n",
              "\n",
              "    .colab-df-convert {\n",
              "      background-color: #E8F0FE;\n",
              "      border: none;\n",
              "      border-radius: 50%;\n",
              "      cursor: pointer;\n",
              "      display: none;\n",
              "      fill: #1967D2;\n",
              "      height: 32px;\n",
              "      padding: 0 0 0 0;\n",
              "      width: 32px;\n",
              "    }\n",
              "\n",
              "    .colab-df-convert:hover {\n",
              "      background-color: #E2EBFA;\n",
              "      box-shadow: 0px 1px 2px rgba(60, 64, 67, 0.3), 0px 1px 3px 1px rgba(60, 64, 67, 0.15);\n",
              "      fill: #174EA6;\n",
              "    }\n",
              "\n",
              "    [theme=dark] .colab-df-convert {\n",
              "      background-color: #3B4455;\n",
              "      fill: #D2E3FC;\n",
              "    }\n",
              "\n",
              "    [theme=dark] .colab-df-convert:hover {\n",
              "      background-color: #434B5C;\n",
              "      box-shadow: 0px 1px 3px 1px rgba(0, 0, 0, 0.15);\n",
              "      filter: drop-shadow(0px 1px 2px rgba(0, 0, 0, 0.3));\n",
              "      fill: #FFFFFF;\n",
              "    }\n",
              "  </style>\n",
              "\n",
              "      <script>\n",
              "        const buttonEl =\n",
              "          document.querySelector('#df-394241da-e724-4910-b1b7-29bd1f88df25 button.colab-df-convert');\n",
              "        buttonEl.style.display =\n",
              "          google.colab.kernel.accessAllowed ? 'block' : 'none';\n",
              "\n",
              "        async function convertToInteractive(key) {\n",
              "          const element = document.querySelector('#df-394241da-e724-4910-b1b7-29bd1f88df25');\n",
              "          const dataTable =\n",
              "            await google.colab.kernel.invokeFunction('convertToInteractive',\n",
              "                                                     [key], {});\n",
              "          if (!dataTable) return;\n",
              "\n",
              "          const docLinkHtml = 'Like what you see? Visit the ' +\n",
              "            '<a target=\"_blank\" href=https://colab.research.google.com/notebooks/data_table.ipynb>data table notebook</a>'\n",
              "            + ' to learn more about interactive tables.';\n",
              "          element.innerHTML = '';\n",
              "          dataTable['output_type'] = 'display_data';\n",
              "          await google.colab.output.renderOutput(dataTable, element);\n",
              "          const docLink = document.createElement('div');\n",
              "          docLink.innerHTML = docLinkHtml;\n",
              "          element.appendChild(docLink);\n",
              "        }\n",
              "      </script>\n",
              "    </div>\n",
              "  </div>\n",
              "  "
            ],
            "text/plain": [
              "          ID  Day  Incidence  Brand  ...  Segment_0  Segment_1  Segment_2  Segment_3\n",
              "0  200000001    1          0      0  ...          0          0          1          0\n",
              "1  200000001   11          0      0  ...          0          0          1          0\n",
              "2  200000001   12          0      0  ...          0          0          1          0\n",
              "3  200000001   16          0      0  ...          0          0          1          0\n",
              "4  200000001   18          0      0  ...          0          0          1          0\n",
              "\n",
              "[5 rows x 29 columns]"
            ]
          },
          "metadata": {},
          "execution_count": 3
        }
      ]
    },
    {
      "cell_type": "code",
      "source": [
        "df_purchase_predictors['Segment'].unique()"
      ],
      "metadata": {
        "colab": {
          "base_uri": "https://localhost:8080/"
        },
        "id": "6sZk5Yq3NVdP",
        "outputId": "eb02b743-2e70-430a-f5f6-d1a1f46f1413"
      },
      "execution_count": null,
      "outputs": [
        {
          "output_type": "execute_result",
          "data": {
            "text/plain": [
              "array([2, 3, 1, 0], dtype=int32)"
            ]
          },
          "metadata": {},
          "execution_count": 4
        }
      ]
    },
    {
      "cell_type": "markdown",
      "source": [
        "# Purchase Probability Modeling\n",
        "Check the impect of price in puchase decision and compute the magnitude of impact of price on price. \n",
        "\n",
        "Use of Logistic Regression will be better choice in this case.\n"
      ],
      "metadata": {
        "id": "NXyej6gQm6nd"
      }
    },
    {
      "cell_type": "code",
      "source": [
        "Y=df_purchase_predictors['Incidence']\n",
        "x=pd.DataFrame()\n",
        "x['Mean']=(df_purchase_predictors['Price_1']+df_purchase_predictors['Price_2']+df_purchase_predictors['Price_3']+df_purchase_predictors['Price_4']+df_purchase_predictors['Price_5'])/5\n",
        "model_purchase = LogisticRegression()\n",
        "model_purchase.fit(x,Y)"
      ],
      "metadata": {
        "id": "qyG5LtWnckFh",
        "colab": {
          "base_uri": "https://localhost:8080/"
        },
        "outputId": "899db0a5-4269-46de-9232-52282b7d978f"
      },
      "execution_count": null,
      "outputs": [
        {
          "output_type": "execute_result",
          "data": {
            "text/plain": [
              "LogisticRegression()"
            ]
          },
          "metadata": {},
          "execution_count": 5
        }
      ]
    },
    {
      "cell_type": "code",
      "source": [
        "model_purchase.coef_"
      ],
      "metadata": {
        "colab": {
          "base_uri": "https://localhost:8080/"
        },
        "id": "W7pIELJ-on8x",
        "outputId": "1a8b655f-1722-44d4-a490-7cad7d8a00ea"
      },
      "execution_count": null,
      "outputs": [
        {
          "output_type": "execute_result",
          "data": {
            "text/plain": [
              "array([[-2.3480548]])"
            ]
          },
          "metadata": {},
          "execution_count": 6
        }
      ]
    },
    {
      "cell_type": "markdown",
      "source": [
        "# Price Elasticity of Purchase Probability"
      ],
      "metadata": {
        "id": "fhz8XRsi9TMH"
      }
    },
    {
      "cell_type": "code",
      "source": [
        "#Check on the price range\n",
        "df_purchase_predictors[['Price_1','Price_2','Price_3','Price_4','Price_5']].describe()"
      ],
      "metadata": {
        "colab": {
          "base_uri": "https://localhost:8080/",
          "height": 300
        },
        "id": "AXTdR6cspzEI",
        "outputId": "84a5ab83-573e-44e1-da50-df498ba26c30"
      },
      "execution_count": null,
      "outputs": [
        {
          "output_type": "execute_result",
          "data": {
            "text/html": [
              "\n",
              "  <div id=\"df-af605d1e-7c56-4549-af1c-0fc93618cd32\">\n",
              "    <div class=\"colab-df-container\">\n",
              "      <div>\n",
              "<style scoped>\n",
              "    .dataframe tbody tr th:only-of-type {\n",
              "        vertical-align: middle;\n",
              "    }\n",
              "\n",
              "    .dataframe tbody tr th {\n",
              "        vertical-align: top;\n",
              "    }\n",
              "\n",
              "    .dataframe thead th {\n",
              "        text-align: right;\n",
              "    }\n",
              "</style>\n",
              "<table border=\"1\" class=\"dataframe\">\n",
              "  <thead>\n",
              "    <tr style=\"text-align: right;\">\n",
              "      <th></th>\n",
              "      <th>Price_1</th>\n",
              "      <th>Price_2</th>\n",
              "      <th>Price_3</th>\n",
              "      <th>Price_4</th>\n",
              "      <th>Price_5</th>\n",
              "    </tr>\n",
              "  </thead>\n",
              "  <tbody>\n",
              "    <tr>\n",
              "      <th>count</th>\n",
              "      <td>58693.000000</td>\n",
              "      <td>58693.000000</td>\n",
              "      <td>58693.000000</td>\n",
              "      <td>58693.000000</td>\n",
              "      <td>58693.000000</td>\n",
              "    </tr>\n",
              "    <tr>\n",
              "      <th>mean</th>\n",
              "      <td>1.392074</td>\n",
              "      <td>1.780999</td>\n",
              "      <td>2.006789</td>\n",
              "      <td>2.159945</td>\n",
              "      <td>2.654798</td>\n",
              "    </tr>\n",
              "    <tr>\n",
              "      <th>std</th>\n",
              "      <td>0.091139</td>\n",
              "      <td>0.170868</td>\n",
              "      <td>0.046867</td>\n",
              "      <td>0.089825</td>\n",
              "      <td>0.098272</td>\n",
              "    </tr>\n",
              "    <tr>\n",
              "      <th>min</th>\n",
              "      <td>1.100000</td>\n",
              "      <td>1.260000</td>\n",
              "      <td>1.870000</td>\n",
              "      <td>1.760000</td>\n",
              "      <td>2.110000</td>\n",
              "    </tr>\n",
              "    <tr>\n",
              "      <th>25%</th>\n",
              "      <td>1.340000</td>\n",
              "      <td>1.580000</td>\n",
              "      <td>1.970000</td>\n",
              "      <td>2.120000</td>\n",
              "      <td>2.630000</td>\n",
              "    </tr>\n",
              "    <tr>\n",
              "      <th>50%</th>\n",
              "      <td>1.390000</td>\n",
              "      <td>1.880000</td>\n",
              "      <td>2.010000</td>\n",
              "      <td>2.170000</td>\n",
              "      <td>2.670000</td>\n",
              "    </tr>\n",
              "    <tr>\n",
              "      <th>75%</th>\n",
              "      <td>1.470000</td>\n",
              "      <td>1.890000</td>\n",
              "      <td>2.060000</td>\n",
              "      <td>2.240000</td>\n",
              "      <td>2.700000</td>\n",
              "    </tr>\n",
              "    <tr>\n",
              "      <th>max</th>\n",
              "      <td>1.590000</td>\n",
              "      <td>1.900000</td>\n",
              "      <td>2.140000</td>\n",
              "      <td>2.260000</td>\n",
              "      <td>2.800000</td>\n",
              "    </tr>\n",
              "  </tbody>\n",
              "</table>\n",
              "</div>\n",
              "      <button class=\"colab-df-convert\" onclick=\"convertToInteractive('df-af605d1e-7c56-4549-af1c-0fc93618cd32')\"\n",
              "              title=\"Convert this dataframe to an interactive table.\"\n",
              "              style=\"display:none;\">\n",
              "        \n",
              "  <svg xmlns=\"http://www.w3.org/2000/svg\" height=\"24px\"viewBox=\"0 0 24 24\"\n",
              "       width=\"24px\">\n",
              "    <path d=\"M0 0h24v24H0V0z\" fill=\"none\"/>\n",
              "    <path d=\"M18.56 5.44l.94 2.06.94-2.06 2.06-.94-2.06-.94-.94-2.06-.94 2.06-2.06.94zm-11 1L8.5 8.5l.94-2.06 2.06-.94-2.06-.94L8.5 2.5l-.94 2.06-2.06.94zm10 10l.94 2.06.94-2.06 2.06-.94-2.06-.94-.94-2.06-.94 2.06-2.06.94z\"/><path d=\"M17.41 7.96l-1.37-1.37c-.4-.4-.92-.59-1.43-.59-.52 0-1.04.2-1.43.59L10.3 9.45l-7.72 7.72c-.78.78-.78 2.05 0 2.83L4 21.41c.39.39.9.59 1.41.59.51 0 1.02-.2 1.41-.59l7.78-7.78 2.81-2.81c.8-.78.8-2.07 0-2.86zM5.41 20L4 18.59l7.72-7.72 1.47 1.35L5.41 20z\"/>\n",
              "  </svg>\n",
              "      </button>\n",
              "      \n",
              "  <style>\n",
              "    .colab-df-container {\n",
              "      display:flex;\n",
              "      flex-wrap:wrap;\n",
              "      gap: 12px;\n",
              "    }\n",
              "\n",
              "    .colab-df-convert {\n",
              "      background-color: #E8F0FE;\n",
              "      border: none;\n",
              "      border-radius: 50%;\n",
              "      cursor: pointer;\n",
              "      display: none;\n",
              "      fill: #1967D2;\n",
              "      height: 32px;\n",
              "      padding: 0 0 0 0;\n",
              "      width: 32px;\n",
              "    }\n",
              "\n",
              "    .colab-df-convert:hover {\n",
              "      background-color: #E2EBFA;\n",
              "      box-shadow: 0px 1px 2px rgba(60, 64, 67, 0.3), 0px 1px 3px 1px rgba(60, 64, 67, 0.15);\n",
              "      fill: #174EA6;\n",
              "    }\n",
              "\n",
              "    [theme=dark] .colab-df-convert {\n",
              "      background-color: #3B4455;\n",
              "      fill: #D2E3FC;\n",
              "    }\n",
              "\n",
              "    [theme=dark] .colab-df-convert:hover {\n",
              "      background-color: #434B5C;\n",
              "      box-shadow: 0px 1px 3px 1px rgba(0, 0, 0, 0.15);\n",
              "      filter: drop-shadow(0px 1px 2px rgba(0, 0, 0, 0.3));\n",
              "      fill: #FFFFFF;\n",
              "    }\n",
              "  </style>\n",
              "\n",
              "      <script>\n",
              "        const buttonEl =\n",
              "          document.querySelector('#df-af605d1e-7c56-4549-af1c-0fc93618cd32 button.colab-df-convert');\n",
              "        buttonEl.style.display =\n",
              "          google.colab.kernel.accessAllowed ? 'block' : 'none';\n",
              "\n",
              "        async function convertToInteractive(key) {\n",
              "          const element = document.querySelector('#df-af605d1e-7c56-4549-af1c-0fc93618cd32');\n",
              "          const dataTable =\n",
              "            await google.colab.kernel.invokeFunction('convertToInteractive',\n",
              "                                                     [key], {});\n",
              "          if (!dataTable) return;\n",
              "\n",
              "          const docLinkHtml = 'Like what you see? Visit the ' +\n",
              "            '<a target=\"_blank\" href=https://colab.research.google.com/notebooks/data_table.ipynb>data table notebook</a>'\n",
              "            + ' to learn more about interactive tables.';\n",
              "          element.innerHTML = '';\n",
              "          dataTable['output_type'] = 'display_data';\n",
              "          await google.colab.output.renderOutput(dataTable, element);\n",
              "          const docLink = document.createElement('div');\n",
              "          docLink.innerHTML = docLinkHtml;\n",
              "          element.appendChild(docLink);\n",
              "        }\n",
              "      </script>\n",
              "    </div>\n",
              "  </div>\n",
              "  "
            ],
            "text/plain": [
              "            Price_1       Price_2       Price_3       Price_4       Price_5\n",
              "count  58693.000000  58693.000000  58693.000000  58693.000000  58693.000000\n",
              "mean       1.392074      1.780999      2.006789      2.159945      2.654798\n",
              "std        0.091139      0.170868      0.046867      0.089825      0.098272\n",
              "min        1.100000      1.260000      1.870000      1.760000      2.110000\n",
              "25%        1.340000      1.580000      1.970000      2.120000      2.630000\n",
              "50%        1.390000      1.880000      2.010000      2.170000      2.670000\n",
              "75%        1.470000      1.890000      2.060000      2.240000      2.700000\n",
              "max        1.590000      1.900000      2.140000      2.260000      2.800000"
            ]
          },
          "metadata": {},
          "execution_count": 7
        }
      ]
    },
    {
      "cell_type": "code",
      "source": [
        "price_range= np.arange(0.5,3.5,0.01)\n",
        "price_range"
      ],
      "metadata": {
        "colab": {
          "base_uri": "https://localhost:8080/"
        },
        "id": "1SdFyGFl6X1g",
        "outputId": "39684fb6-e899-4640-922a-17e82290552f"
      },
      "execution_count": null,
      "outputs": [
        {
          "output_type": "execute_result",
          "data": {
            "text/plain": [
              "array([0.5 , 0.51, 0.52, 0.53, 0.54, 0.55, 0.56, 0.57, 0.58, 0.59, 0.6 ,\n",
              "       0.61, 0.62, 0.63, 0.64, 0.65, 0.66, 0.67, 0.68, 0.69, 0.7 , 0.71,\n",
              "       0.72, 0.73, 0.74, 0.75, 0.76, 0.77, 0.78, 0.79, 0.8 , 0.81, 0.82,\n",
              "       0.83, 0.84, 0.85, 0.86, 0.87, 0.88, 0.89, 0.9 , 0.91, 0.92, 0.93,\n",
              "       0.94, 0.95, 0.96, 0.97, 0.98, 0.99, 1.  , 1.01, 1.02, 1.03, 1.04,\n",
              "       1.05, 1.06, 1.07, 1.08, 1.09, 1.1 , 1.11, 1.12, 1.13, 1.14, 1.15,\n",
              "       1.16, 1.17, 1.18, 1.19, 1.2 , 1.21, 1.22, 1.23, 1.24, 1.25, 1.26,\n",
              "       1.27, 1.28, 1.29, 1.3 , 1.31, 1.32, 1.33, 1.34, 1.35, 1.36, 1.37,\n",
              "       1.38, 1.39, 1.4 , 1.41, 1.42, 1.43, 1.44, 1.45, 1.46, 1.47, 1.48,\n",
              "       1.49, 1.5 , 1.51, 1.52, 1.53, 1.54, 1.55, 1.56, 1.57, 1.58, 1.59,\n",
              "       1.6 , 1.61, 1.62, 1.63, 1.64, 1.65, 1.66, 1.67, 1.68, 1.69, 1.7 ,\n",
              "       1.71, 1.72, 1.73, 1.74, 1.75, 1.76, 1.77, 1.78, 1.79, 1.8 , 1.81,\n",
              "       1.82, 1.83, 1.84, 1.85, 1.86, 1.87, 1.88, 1.89, 1.9 , 1.91, 1.92,\n",
              "       1.93, 1.94, 1.95, 1.96, 1.97, 1.98, 1.99, 2.  , 2.01, 2.02, 2.03,\n",
              "       2.04, 2.05, 2.06, 2.07, 2.08, 2.09, 2.1 , 2.11, 2.12, 2.13, 2.14,\n",
              "       2.15, 2.16, 2.17, 2.18, 2.19, 2.2 , 2.21, 2.22, 2.23, 2.24, 2.25,\n",
              "       2.26, 2.27, 2.28, 2.29, 2.3 , 2.31, 2.32, 2.33, 2.34, 2.35, 2.36,\n",
              "       2.37, 2.38, 2.39, 2.4 , 2.41, 2.42, 2.43, 2.44, 2.45, 2.46, 2.47,\n",
              "       2.48, 2.49, 2.5 , 2.51, 2.52, 2.53, 2.54, 2.55, 2.56, 2.57, 2.58,\n",
              "       2.59, 2.6 , 2.61, 2.62, 2.63, 2.64, 2.65, 2.66, 2.67, 2.68, 2.69,\n",
              "       2.7 , 2.71, 2.72, 2.73, 2.74, 2.75, 2.76, 2.77, 2.78, 2.79, 2.8 ,\n",
              "       2.81, 2.82, 2.83, 2.84, 2.85, 2.86, 2.87, 2.88, 2.89, 2.9 , 2.91,\n",
              "       2.92, 2.93, 2.94, 2.95, 2.96, 2.97, 2.98, 2.99, 3.  , 3.01, 3.02,\n",
              "       3.03, 3.04, 3.05, 3.06, 3.07, 3.08, 3.09, 3.1 , 3.11, 3.12, 3.13,\n",
              "       3.14, 3.15, 3.16, 3.17, 3.18, 3.19, 3.2 , 3.21, 3.22, 3.23, 3.24,\n",
              "       3.25, 3.26, 3.27, 3.28, 3.29, 3.3 , 3.31, 3.32, 3.33, 3.34, 3.35,\n",
              "       3.36, 3.37, 3.38, 3.39, 3.4 , 3.41, 3.42, 3.43, 3.44, 3.45, 3.46,\n",
              "       3.47, 3.48, 3.49])"
            ]
          },
          "metadata": {},
          "execution_count": 8
        }
      ]
    },
    {
      "cell_type": "code",
      "source": [
        "df_price_range=pd.DataFrame()\n",
        "df_price_range['Mean']=price_range\n",
        "y_predict= model_purchase.predict_proba(df_price_range)"
      ],
      "metadata": {
        "id": "JHaP-Wc8-Snm"
      },
      "execution_count": null,
      "outputs": []
    },
    {
      "cell_type": "code",
      "source": [
        "purchase_prob= y_predict[:,1]\n",
        "purchase_prob.shape"
      ],
      "metadata": {
        "id": "HwzbwysZ-uYw",
        "colab": {
          "base_uri": "https://localhost:8080/"
        },
        "outputId": "fde8e681-8c75-429d-d947-490d117f6452"
      },
      "execution_count": null,
      "outputs": [
        {
          "output_type": "execute_result",
          "data": {
            "text/plain": [
              "(300,)"
            ]
          },
          "metadata": {},
          "execution_count": 10
        }
      ]
    },
    {
      "cell_type": "code",
      "source": [
        "# Compute price elasticity  E=beta*price*(1- Purchase Probability)\n",
        "pe=model_purchase.coef_[:,0]* (1- purchase_prob)*price_range"
      ],
      "metadata": {
        "id": "Iu4n5BBCQek3"
      },
      "execution_count": null,
      "outputs": []
    },
    {
      "cell_type": "code",
      "source": [
        "# Adding to PE dataframe\n",
        "df_price_elasticity=pd.DataFrame(price_range, columns=['Price Range'])\n",
        "df_price_elasticity['Mean_PE']=pe"
      ],
      "metadata": {
        "id": "Ll3w8il-Q7eP"
      },
      "execution_count": null,
      "outputs": []
    },
    {
      "cell_type": "code",
      "source": [
        "# ploting on Mean PE\n",
        "plt.figure(figsize=(9,8))\n",
        "plt.plot(price_range, pe)\n",
        "plt.xlabel('Price Range')\n",
        "plt.ylabel('Elasticity')\n",
        "plt.title('Mean Price Elasticity')\n",
        "plt.show()"
      ],
      "metadata": {
        "colab": {
          "base_uri": "https://localhost:8080/",
          "height": 518
        },
        "id": "rNgypLct3vmV",
        "outputId": "ec4a60a7-8bee-4745-cf9b-5f7f759e3a34"
      },
      "execution_count": null,
      "outputs": [
        {
          "output_type": "display_data",
          "data": {
            "image/png": "[encoded data removed]",
            "text/plain": [
              "<Figure size 648x576 with 1 Axes>"
            ]
          },
          "metadata": {
            "needs_background": "light"
          }
        }
      ]
    },
    {
      "cell_type": "markdown",
      "source": [
        "# Price Elasticity Segment wise\n",
        "Computing price elasticity for wach segment and comparing them with Mean PE."
      ],
      "metadata": {
        "id": "Dw0PoVnBCdNl"
      }
    },
    {
      "cell_type": "code",
      "source": [
        "# Segment 0\n",
        "df_segment_0= df_purchase_predictors[df_purchase_predictors['Segment']==0]\n",
        "Y=df_segment_0['Incidence']\n",
        "x=pd.DataFrame()\n",
        "x['Mean']=(df_segment_0['Price_1']+df_segment_0['Price_2']+df_segment_0['Price_3']+df_segment_0['Price_4']+df_segment_0['Price_5'])/5\n",
        "model_purchase = LogisticRegression()\n",
        "model_purchase.fit(x,Y)\n",
        "print(f\"Model Coefficient for Segment 0 : \",model_purchase.coef_)\n",
        "\n",
        "#Predict Purchase Probability\n",
        "y_predict= model_purchase.predict_proba(pd.DataFrame(df_price_range))\n",
        "purchase_prob= y_predict[:,1]\n",
        "\n",
        "# Compute price elasticity  E=beta*price*(1- Purchase Probability)\n",
        "pe_segment_0=model_purchase.coef_[:,0]* (1- purchase_prob)*price_range\n",
        "\n",
        "# Additing Segment PE to Dataframe\n",
        "df_price_elasticity['PE of Segment 0']=pe_segment_0\n",
        "\n",
        "# ploting on Mean PE\n",
        "plt.figure(figsize=(9,8))\n",
        "plt.plot(price_range, pe)\n",
        "plt.plot(price_range, pe_segment_0)\n",
        "plt.xlabel('Price Range')\n",
        "plt.ylabel('Elasticity')\n",
        "plt.legend(['Mean-PE','Standard'])\n",
        "plt.title('Mean Price Elasticity')\n",
        "plt.show()\n",
        "\n",
        "\n"
      ],
      "metadata": {
        "id": "KX4x2RVF4bwm",
        "colab": {
          "base_uri": "https://localhost:8080/",
          "height": 535
        },
        "outputId": "03cfc778-9e09-4091-80d2-11ce27d4fc21"
      },
      "execution_count": null,
      "outputs": [
        {
          "output_type": "stream",
          "name": "stdout",
          "text": [
            "Model Coefficient for Segment 0 :  [[-1.50825039]]\n"
          ]
        },
        {
          "output_type": "display_data",
          "data": {
            "image/png": "[encoded data removed]",
            "text/plain": [
              "<Figure size 648x576 with 1 Axes>"
            ]
          },
          "metadata": {
            "needs_background": "light"
          }
        }
      ]
    },
    {
      "cell_type": "code",
      "source": [
        "# Segment 1\n",
        "df_segment_1= df_purchase_predictors[df_purchase_predictors['Segment']==1]\n",
        "Y=df_segment_1['Incidence']\n",
        "x=pd.DataFrame()\n",
        "x['Mean']=(df_segment_1['Price_1']+df_segment_1['Price_2']+df_segment_1['Price_3']+df_segment_1['Price_4']+df_segment_1['Price_5'])/5\n",
        "model_purchase = LogisticRegression()\n",
        "model_purchase.fit(x,Y)\n",
        "print(f\"Model Coefficient for Segment 1 : \",model_purchase.coef_)\n",
        "\n",
        "#Predict Purchase Probability\n",
        "y_predict= model_purchase.predict_proba(pd.DataFrame(df_price_range))\n",
        "purchase_prob= y_predict[:,1]\n",
        "\n",
        "# Compute price elasticity  E=beta*price*(1- Purchase Probability)\n",
        "pe_segment_1=model_purchase.coef_[:,0]* (1- purchase_prob)*price_range\n",
        "\n",
        "# Additing Segment PE to Dataframe\n",
        "df_price_elasticity['PE of Segment 1']=pe_segment_1\n",
        "\n",
        "# ploting on Mean PE\n",
        "plt.figure(figsize=(9,8))\n",
        "plt.plot(price_range, pe)\n",
        "plt.plot(price_range, pe_segment_0)\n",
        "plt.plot(price_range, pe_segment_1)\n",
        "plt.legend(['Mean-PE','Standard', 'Career Focused'])\n",
        "plt.xlabel('Price Range')\n",
        "plt.ylabel('Elasticity')\n",
        "plt.title('Mean Price Elasticity')\n",
        "plt.show()\n",
        "\n",
        "\n"
      ],
      "metadata": {
        "id": "A9XIppI24qRA",
        "colab": {
          "base_uri": "https://localhost:8080/",
          "height": 535
        },
        "outputId": "b7486d56-0459-467b-f3f2-c75c14c9c9a4"
      },
      "execution_count": null,
      "outputs": [
        {
          "output_type": "stream",
          "name": "stdout",
          "text": [
            "Model Coefficient for Segment 1 :  [[-1.71191219]]\n"
          ]
        },
        {
          "output_type": "display_data",
          "data": {
            "image/png": "[encoded data removed]",
            "text/plain": [
              "<Figure size 648x576 with 1 Axes>"
            ]
          },
          "metadata": {
            "needs_background": "light"
          }
        }
      ]
    },
    {
      "cell_type": "code",
      "source": [
        "# Segment 2\n",
        "df_segment_2= df_purchase_predictors[df_purchase_predictors['Segment']==2]\n",
        "Y=df_segment_2['Incidence']\n",
        "x=pd.DataFrame()\n",
        "x['Mean']=(df_segment_2['Price_1']+df_segment_2['Price_2']+df_segment_2['Price_3']+df_segment_2['Price_4']+df_segment_2['Price_5'])/5\n",
        "model_purchase = LogisticRegression()\n",
        "model_purchase.fit(x,Y)\n",
        "print(f\"Model Coefficient for Segment 2 : \",model_purchase.coef_)\n",
        "\n",
        "#Predict Purchase Probability\n",
        "y_predict= model_purchase.predict_proba(pd.DataFrame(df_price_range))\n",
        "purchase_prob= y_predict[:,1]\n",
        "\n",
        "# Compute price elasticity  E=beta*price*(1- Purchase Probability)\n",
        "pe_segment_2=model_purchase.coef_[:,0]* (1- purchase_prob)*price_range\n",
        "\n",
        "# Additing Segment PE to Dataframe\n",
        "df_price_elasticity['PE of Segment 2']=pe_segment_2\n",
        "\n",
        "# ploting on Mean PE\n",
        "plt.figure(figsize=(9,8))\n",
        "plt.plot(price_range, pe)\n",
        "plt.plot(price_range, pe_segment_0)\n",
        "plt.plot(price_range, pe_segment_1)\n",
        "plt.plot(price_range, pe_segment_2)\n",
        "plt.legend(['Mean-PE','Standard', 'Career Focused', 'Fewer Opportunity'])\n",
        "plt.xlabel('Price Range')\n",
        "plt.ylabel('Elasticity')\n",
        "plt.title('Mean Price Elasticity')\n",
        "plt.show()\n"
      ],
      "metadata": {
        "colab": {
          "base_uri": "https://localhost:8080/",
          "height": 535
        },
        "id": "9bxfhjweLHfU",
        "outputId": "a371fbbd-b331-4367-84f7-f1c5abdf9b6f"
      },
      "execution_count": null,
      "outputs": [
        {
          "output_type": "stream",
          "name": "stdout",
          "text": [
            "Model Coefficient for Segment 2 :  [[-3.63986678]]\n"
          ]
        },
        {
          "output_type": "display_data",
          "data": {
            "image/png": "[encoded data removed]",
            "text/plain": [
              "<Figure size 648x576 with 1 Axes>"
            ]
          },
          "metadata": {
            "needs_background": "light"
          }
        }
      ]
    },
    {
      "cell_type": "code",
      "source": [
        "# Segment 3\n",
        "df_segment_3= df_purchase_predictors[df_purchase_predictors['Segment']==3]\n",
        "Y=df_segment_3['Incidence']\n",
        "x=pd.DataFrame()\n",
        "x['Mean']=(df_segment_3['Price_1']+df_segment_3['Price_2']+df_segment_3['Price_3']+df_segment_3['Price_4']+df_segment_3['Price_5'])/5\n",
        "model_purchase = LogisticRegression()\n",
        "model_purchase.fit(x,Y)\n",
        "print(f\"Model Coefficient for Segment 3 : \",model_purchase.coef_)\n",
        "\n",
        "#Predict Purchase Probability\n",
        "y_predict= model_purchase.predict_proba(pd.DataFrame(df_price_range))\n",
        "purchase_prob= y_predict[:,1]\n",
        "\n",
        "# Compute price elasticity  E=beta*price*(1- Purchase Probability)\n",
        "pe_segment_3=model_purchase.coef_[:,0]* (1- purchase_prob)*price_range\n",
        "\n",
        "# Additing Segment PE to Dataframe\n",
        "df_price_elasticity['PE of Segment 3']=pe_segment_3\n",
        "\n",
        "# ploting on Mean PE\n",
        "plt.figure(figsize=(9,8))\n",
        "plt.plot(price_range, pe)\n",
        "plt.plot(price_range, pe_segment_0)\n",
        "plt.plot(price_range, pe_segment_1)\n",
        "plt.plot(price_range, pe_segment_2)\n",
        "plt.plot(price_range, pe_segment_3)\n",
        "plt.legend(['Mean-PE','Standard', 'Career Focused', 'Fewer Opportunity', 'Well Off'],)\n",
        "plt.xlabel('Price Range')\n",
        "plt.ylabel('Elasticity')\n",
        "plt.title('Mean Price Elasticity')\n",
        "plt.show()\n",
        "\n",
        "\n"
      ],
      "metadata": {
        "colab": {
          "base_uri": "https://localhost:8080/",
          "height": 535
        },
        "id": "RNPWe0MjNHRA",
        "outputId": "8074b8b4-cd4b-4234-e5c2-9ab7e1c0d4dd"
      },
      "execution_count": null,
      "outputs": [
        {
          "output_type": "stream",
          "name": "stdout",
          "text": [
            "Model Coefficient for Segment 3 :  [[-1.24578907]]\n"
          ]
        },
        {
          "output_type": "display_data",
          "data": {
            "image/png": "[encoded data removed]",
            "text/plain": [
              "<Figure size 648x576 with 1 Axes>"
            ]
          },
          "metadata": {
            "needs_background": "light"
          }
        }
      ]
    },
    {
      "cell_type": "markdown",
      "source": [
        "# Purchase Probability based on the Promotion\n",
        "\n",
        "For whole customer and segment wise.\n",
        "\n",
        "## For the customers in general"
      ],
      "metadata": {
        "id": "r5PO0cKAttiS"
      }
    },
    {
      "cell_type": "code",
      "source": [
        "# Data Preparation\n",
        "Y=df_purchase_predictors['Incidence']\n",
        "x=pd.DataFrame()\n",
        "\n",
        "x['Mean_Price']=(df_purchase_predictors['Price_1']+\n",
        "                 df_purchase_predictors['Price_2']+\n",
        "                 df_purchase_predictors['Price_3']+\n",
        "                 df_purchase_predictors['Price_4']+\n",
        "                 df_purchase_predictors['Price_5'])/5\n",
        "\n",
        "x['Mean_Promotion']=(df_purchase_predictors['Promotion_1']+\n",
        "                     df_purchase_predictors['Promotion_2']+\n",
        "                     df_purchase_predictors['Promotion_3']+\n",
        "                     df_purchase_predictors['Promotion_4']+\n",
        "                     df_purchase_predictors['Promotion_5'])/5\n",
        "\n",
        "# Model Estimation\n",
        "model_incidence_promotion=LogisticRegression()\n",
        "model_incidence_promotion.fit(x, Y)\n",
        "print(f\"Model Coefficient : \",model_incidence_promotion.coef_)"
      ],
      "metadata": {
        "id": "ujZGHbahOHfe",
        "colab": {
          "base_uri": "https://localhost:8080/"
        },
        "outputId": "55eb1d4d-d9e6-4db0-912f-95e7b1076055"
      },
      "execution_count": null,
      "outputs": [
        {
          "output_type": "stream",
          "name": "stdout",
          "text": [
            "Model Coefficient :  [[-1.49402641  0.56152541]]\n"
          ]
        }
      ]
    },
    {
      "cell_type": "markdown",
      "source": [
        "## Price Elasticity with Promotion"
      ],
      "metadata": {
        "id": "y_Rm9OqlKqE7"
      }
    },
    {
      "cell_type": "code",
      "source": [
        "#Predict Purchase Probability\n",
        "df_pe_promotion=pd.DataFrame()\n",
        "df_pe_promotion['Price']=price_range\n",
        "df_pe_promotion['Promotion']=1\n",
        "y_promotion_predict= model_incidence_promotion.predict_proba(df_pe_promotion)\n",
        "purchase_prob= y_promotion_predict[:,1]\n",
        "\n",
        "# Compute price elasticity  E=beta*price*(1- Purchase Probability)\n",
        "pe_on_promotion=model_incidence_promotion.coef_[:,0]*price_range* (1- purchase_prob)\n",
        "\n",
        "# Additing Segment PE to Dataframe\n",
        "df_price_elasticity['PE on Promotion']=pe_on_promotion\n",
        "df_price_elasticity.head()"
      ],
      "metadata": {
        "colab": {
          "base_uri": "https://localhost:8080/",
          "height": 382
        },
        "id": "8lzqadylu4Y0",
        "outputId": "21676b77-0cbb-47cf-8830-06dbf7f8497a"
      },
      "execution_count": null,
      "outputs": [
        {
          "output_type": "stream",
          "name": "stderr",
          "text": [
            "/usr/local/lib/python3.7/dist-packages/sklearn/base.py:488: FutureWarning: The feature names should match those that were passed during fit. Starting version 1.2, an error will be raised.\n",
            "Feature names unseen at fit time:\n",
            "- Price\n",
            "- Promotion\n",
            "Feature names seen at fit time, yet now missing:\n",
            "- Mean_Price\n",
            "- Mean_Promotion\n",
            "\n",
            "  warnings.warn(message, FutureWarning)\n"
          ]
        },
        {
          "output_type": "execute_result",
          "data": {
            "text/html": [
              "\n",
              "  <div id=\"df-3364a2e7-54ed-4c57-8a1a-af27b8d1fae7\">\n",
              "    <div class=\"colab-df-container\">\n",
              "      <div>\n",
              "<style scoped>\n",
              "    .dataframe tbody tr th:only-of-type {\n",
              "        vertical-align: middle;\n",
              "    }\n",
              "\n",
              "    .dataframe tbody tr th {\n",
              "        vertical-align: top;\n",
              "    }\n",
              "\n",
              "    .dataframe thead th {\n",
              "        text-align: right;\n",
              "    }\n",
              "</style>\n",
              "<table border=\"1\" class=\"dataframe\">\n",
              "  <thead>\n",
              "    <tr style=\"text-align: right;\">\n",
              "      <th></th>\n",
              "      <th>Price Range</th>\n",
              "      <th>Mean_PE</th>\n",
              "      <th>PE of Segment 0</th>\n",
              "      <th>PE of Segment 1</th>\n",
              "      <th>PE of Segment 2</th>\n",
              "      <th>PE of Segment 3</th>\n",
              "      <th>PE on Promotion</th>\n",
              "    </tr>\n",
              "  </thead>\n",
              "  <tbody>\n",
              "    <tr>\n",
              "      <th>0</th>\n",
              "      <td>0.50</td>\n",
              "      <td>-0.096396</td>\n",
              "      <td>-0.211169</td>\n",
              "      <td>-0.119088</td>\n",
              "      <td>-0.030921</td>\n",
              "      <td>-0.168042</td>\n",
              "      <td>-0.125732</td>\n",
              "    </tr>\n",
              "    <tr>\n",
              "      <th>1</th>\n",
              "      <td>0.51</td>\n",
              "      <td>-0.100464</td>\n",
              "      <td>-0.217739</td>\n",
              "      <td>-0.123271</td>\n",
              "      <td>-0.032688</td>\n",
              "      <td>-0.172967</td>\n",
              "      <td>-0.129848</td>\n",
              "    </tr>\n",
              "    <tr>\n",
              "      <th>2</th>\n",
              "      <td>0.52</td>\n",
              "      <td>-0.104659</td>\n",
              "      <td>-0.224417</td>\n",
              "      <td>-0.127548</td>\n",
              "      <td>-0.034541</td>\n",
              "      <td>-0.177962</td>\n",
              "      <td>-0.134043</td>\n",
              "    </tr>\n",
              "    <tr>\n",
              "      <th>3</th>\n",
              "      <td>0.53</td>\n",
              "      <td>-0.108984</td>\n",
              "      <td>-0.231204</td>\n",
              "      <td>-0.131919</td>\n",
              "      <td>-0.036486</td>\n",
              "      <td>-0.183027</td>\n",
              "      <td>-0.138318</td>\n",
              "    </tr>\n",
              "    <tr>\n",
              "      <th>4</th>\n",
              "      <td>0.54</td>\n",
              "      <td>-0.113442</td>\n",
              "      <td>-0.238099</td>\n",
              "      <td>-0.136386</td>\n",
              "      <td>-0.038526</td>\n",
              "      <td>-0.188165</td>\n",
              "      <td>-0.142674</td>\n",
              "    </tr>\n",
              "  </tbody>\n",
              "</table>\n",
              "</div>\n",
              "      <button class=\"colab-df-convert\" onclick=\"convertToInteractive('df-3364a2e7-54ed-4c57-8a1a-af27b8d1fae7')\"\n",
              "              title=\"Convert this dataframe to an interactive table.\"\n",
              "              style=\"display:none;\">\n",
              "        \n",
              "  <svg xmlns=\"http://www.w3.org/2000/svg\" height=\"24px\"viewBox=\"0 0 24 24\"\n",
              "       width=\"24px\">\n",
              "    <path d=\"M0 0h24v24H0V0z\" fill=\"none\"/>\n",
              "    <path d=\"M18.56 5.44l.94 2.06.94-2.06 2.06-.94-2.06-.94-.94-2.06-.94 2.06-2.06.94zm-11 1L8.5 8.5l.94-2.06 2.06-.94-2.06-.94L8.5 2.5l-.94 2.06-2.06.94zm10 10l.94 2.06.94-2.06 2.06-.94-2.06-.94-.94-2.06-.94 2.06-2.06.94z\"/><path d=\"M17.41 7.96l-1.37-1.37c-.4-.4-.92-.59-1.43-.59-.52 0-1.04.2-1.43.59L10.3 9.45l-7.72 7.72c-.78.78-.78 2.05 0 2.83L4 21.41c.39.39.9.59 1.41.59.51 0 1.02-.2 1.41-.59l7.78-7.78 2.81-2.81c.8-.78.8-2.07 0-2.86zM5.41 20L4 18.59l7.72-7.72 1.47 1.35L5.41 20z\"/>\n",
              "  </svg>\n",
              "      </button>\n",
              "      \n",
              "  <style>\n",
              "    .colab-df-container {\n",
              "      display:flex;\n",
              "      flex-wrap:wrap;\n",
              "      gap: 12px;\n",
              "    }\n",
              "\n",
              "    .colab-df-convert {\n",
              "      background-color: #E8F0FE;\n",
              "      border: none;\n",
              "      border-radius: 50%;\n",
              "      cursor: pointer;\n",
              "      display: none;\n",
              "      fill: #1967D2;\n",
              "      height: 32px;\n",
              "      padding: 0 0 0 0;\n",
              "      width: 32px;\n",
              "    }\n",
              "\n",
              "    .colab-df-convert:hover {\n",
              "      background-color: #E2EBFA;\n",
              "      box-shadow: 0px 1px 2px rgba(60, 64, 67, 0.3), 0px 1px 3px 1px rgba(60, 64, 67, 0.15);\n",
              "      fill: #174EA6;\n",
              "    }\n",
              "\n",
              "    [theme=dark] .colab-df-convert {\n",
              "      background-color: #3B4455;\n",
              "      fill: #D2E3FC;\n",
              "    }\n",
              "\n",
              "    [theme=dark] .colab-df-convert:hover {\n",
              "      background-color: #434B5C;\n",
              "      box-shadow: 0px 1px 3px 1px rgba(0, 0, 0, 0.15);\n",
              "      filter: drop-shadow(0px 1px 2px rgba(0, 0, 0, 0.3));\n",
              "      fill: #FFFFFF;\n",
              "    }\n",
              "  </style>\n",
              "\n",
              "      <script>\n",
              "        const buttonEl =\n",
              "          document.querySelector('#df-3364a2e7-54ed-4c57-8a1a-af27b8d1fae7 button.colab-df-convert');\n",
              "        buttonEl.style.display =\n",
              "          google.colab.kernel.accessAllowed ? 'block' : 'none';\n",
              "\n",
              "        async function convertToInteractive(key) {\n",
              "          const element = document.querySelector('#df-3364a2e7-54ed-4c57-8a1a-af27b8d1fae7');\n",
              "          const dataTable =\n",
              "            await google.colab.kernel.invokeFunction('convertToInteractive',\n",
              "                                                     [key], {});\n",
              "          if (!dataTable) return;\n",
              "\n",
              "          const docLinkHtml = 'Like what you see? Visit the ' +\n",
              "            '<a target=\"_blank\" href=https://colab.research.google.com/notebooks/data_table.ipynb>data table notebook</a>'\n",
              "            + ' to learn more about interactive tables.';\n",
              "          element.innerHTML = '';\n",
              "          dataTable['output_type'] = 'display_data';\n",
              "          await google.colab.output.renderOutput(dataTable, element);\n",
              "          const docLink = document.createElement('div');\n",
              "          docLink.innerHTML = docLinkHtml;\n",
              "          element.appendChild(docLink);\n",
              "        }\n",
              "      </script>\n",
              "    </div>\n",
              "  </div>\n",
              "  "
            ],
            "text/plain": [
              "   Price Range   Mean_PE  ...  PE of Segment 3  PE on Promotion\n",
              "0         0.50 -0.096396  ...        -0.168042        -0.125732\n",
              "1         0.51 -0.100464  ...        -0.172967        -0.129848\n",
              "2         0.52 -0.104659  ...        -0.177962        -0.134043\n",
              "3         0.53 -0.108984  ...        -0.183027        -0.138318\n",
              "4         0.54 -0.113442  ...        -0.188165        -0.142674\n",
              "\n",
              "[5 rows x 7 columns]"
            ]
          },
          "metadata": {},
          "execution_count": 19
        }
      ]
    },
    {
      "cell_type": "markdown",
      "source": [
        "# Price Elasticity with No Promotion\n",
        "\n",
        "\n"
      ],
      "metadata": {
        "id": "8d59UhdKqrMD"
      }
    },
    {
      "cell_type": "code",
      "source": [
        "#Predict Purchase Probability\n",
        "df_pe_non_promotion=pd.DataFrame()\n",
        "df_pe_non_promotion['Price']=price_range\n",
        "df_pe_non_promotion['Promotion']=0\n",
        "y_non_promotion_predict= model_incidence_promotion.predict_proba(df_pe_non_promotion)\n",
        "purchase_prob= y_non_promotion_predict[:,1]\n",
        "\n",
        "# Compute price elasticity  E=beta*price*(1- Purchase Probability)\n",
        "pe_on_non_promotion=model_incidence_promotion.coef_[:,0]*price_range* (1- purchase_prob)\n",
        "\n",
        "# Additing Segment PE to Dataframe\n",
        "df_price_elasticity['PE on No-Promotion']=pe_on_non_promotion\n",
        "df_price_elasticity.head()"
      ],
      "metadata": {
        "colab": {
          "base_uri": "https://localhost:8080/",
          "height": 444
        },
        "id": "brgQiDJfQgtK",
        "outputId": "41d5fa5d-d861-4f01-b617-c5eeba9a672b"
      },
      "execution_count": null,
      "outputs": [
        {
          "output_type": "stream",
          "name": "stderr",
          "text": [
            "/usr/local/lib/python3.7/dist-packages/sklearn/base.py:488: FutureWarning: The feature names should match those that were passed during fit. Starting version 1.2, an error will be raised.\n",
            "Feature names unseen at fit time:\n",
            "- Price\n",
            "- Promotion\n",
            "Feature names seen at fit time, yet now missing:\n",
            "- Mean_Price\n",
            "- Mean_Promotion\n",
            "\n",
            "  warnings.warn(message, FutureWarning)\n"
          ]
        },
        {
          "output_type": "execute_result",
          "data": {
            "text/html": [
              "\n",
              "  <div id=\"df-9796f3f9-2bb1-4493-8f4d-74d789de2f26\">\n",
              "    <div class=\"colab-df-container\">\n",
              "      <div>\n",
              "<style scoped>\n",
              "    .dataframe tbody tr th:only-of-type {\n",
              "        vertical-align: middle;\n",
              "    }\n",
              "\n",
              "    .dataframe tbody tr th {\n",
              "        vertical-align: top;\n",
              "    }\n",
              "\n",
              "    .dataframe thead th {\n",
              "        text-align: right;\n",
              "    }\n",
              "</style>\n",
              "<table border=\"1\" class=\"dataframe\">\n",
              "  <thead>\n",
              "    <tr style=\"text-align: right;\">\n",
              "      <th></th>\n",
              "      <th>Price Range</th>\n",
              "      <th>Mean_PE</th>\n",
              "      <th>PE of Segment 0</th>\n",
              "      <th>PE of Segment 1</th>\n",
              "      <th>PE of Segment 2</th>\n",
              "      <th>PE of Segment 3</th>\n",
              "      <th>PE on Promotion</th>\n",
              "      <th>PE on No-Promotion</th>\n",
              "    </tr>\n",
              "  </thead>\n",
              "  <tbody>\n",
              "    <tr>\n",
              "      <th>0</th>\n",
              "      <td>0.50</td>\n",
              "      <td>-0.096396</td>\n",
              "      <td>-0.211169</td>\n",
              "      <td>-0.119088</td>\n",
              "      <td>-0.030921</td>\n",
              "      <td>-0.168042</td>\n",
              "      <td>-0.125732</td>\n",
              "      <td>-0.195644</td>\n",
              "    </tr>\n",
              "    <tr>\n",
              "      <th>1</th>\n",
              "      <td>0.51</td>\n",
              "      <td>-0.100464</td>\n",
              "      <td>-0.217739</td>\n",
              "      <td>-0.123271</td>\n",
              "      <td>-0.032688</td>\n",
              "      <td>-0.172967</td>\n",
              "      <td>-0.129848</td>\n",
              "      <td>-0.201765</td>\n",
              "    </tr>\n",
              "    <tr>\n",
              "      <th>2</th>\n",
              "      <td>0.52</td>\n",
              "      <td>-0.104659</td>\n",
              "      <td>-0.224417</td>\n",
              "      <td>-0.127548</td>\n",
              "      <td>-0.034541</td>\n",
              "      <td>-0.177962</td>\n",
              "      <td>-0.134043</td>\n",
              "      <td>-0.207989</td>\n",
              "    </tr>\n",
              "    <tr>\n",
              "      <th>3</th>\n",
              "      <td>0.53</td>\n",
              "      <td>-0.108984</td>\n",
              "      <td>-0.231204</td>\n",
              "      <td>-0.131919</td>\n",
              "      <td>-0.036486</td>\n",
              "      <td>-0.183027</td>\n",
              "      <td>-0.138318</td>\n",
              "      <td>-0.214316</td>\n",
              "    </tr>\n",
              "    <tr>\n",
              "      <th>4</th>\n",
              "      <td>0.54</td>\n",
              "      <td>-0.113442</td>\n",
              "      <td>-0.238099</td>\n",
              "      <td>-0.136386</td>\n",
              "      <td>-0.038526</td>\n",
              "      <td>-0.188165</td>\n",
              "      <td>-0.142674</td>\n",
              "      <td>-0.220747</td>\n",
              "    </tr>\n",
              "  </tbody>\n",
              "</table>\n",
              "</div>\n",
              "      <button class=\"colab-df-convert\" onclick=\"convertToInteractive('df-9796f3f9-2bb1-4493-8f4d-74d789de2f26')\"\n",
              "              title=\"Convert this dataframe to an interactive table.\"\n",
              "              style=\"display:none;\">\n",
              "        \n",
              "  <svg xmlns=\"http://www.w3.org/2000/svg\" height=\"24px\"viewBox=\"0 0 24 24\"\n",
              "       width=\"24px\">\n",
              "    <path d=\"M0 0h24v24H0V0z\" fill=\"none\"/>\n",
              "    <path d=\"M18.56 5.44l.94 2.06.94-2.06 2.06-.94-2.06-.94-.94-2.06-.94 2.06-2.06.94zm-11 1L8.5 8.5l.94-2.06 2.06-.94-2.06-.94L8.5 2.5l-.94 2.06-2.06.94zm10 10l.94 2.06.94-2.06 2.06-.94-2.06-.94-.94-2.06-.94 2.06-2.06.94z\"/><path d=\"M17.41 7.96l-1.37-1.37c-.4-.4-.92-.59-1.43-.59-.52 0-1.04.2-1.43.59L10.3 9.45l-7.72 7.72c-.78.78-.78 2.05 0 2.83L4 21.41c.39.39.9.59 1.41.59.51 0 1.02-.2 1.41-.59l7.78-7.78 2.81-2.81c.8-.78.8-2.07 0-2.86zM5.41 20L4 18.59l7.72-7.72 1.47 1.35L5.41 20z\"/>\n",
              "  </svg>\n",
              "      </button>\n",
              "      \n",
              "  <style>\n",
              "    .colab-df-container {\n",
              "      display:flex;\n",
              "      flex-wrap:wrap;\n",
              "      gap: 12px;\n",
              "    }\n",
              "\n",
              "    .colab-df-convert {\n",
              "      background-color: #E8F0FE;\n",
              "      border: none;\n",
              "      border-radius: 50%;\n",
              "      cursor: pointer;\n",
              "      display: none;\n",
              "      fill: #1967D2;\n",
              "      height: 32px;\n",
              "      padding: 0 0 0 0;\n",
              "      width: 32px;\n",
              "    }\n",
              "\n",
              "    .colab-df-convert:hover {\n",
              "      background-color: #E2EBFA;\n",
              "      box-shadow: 0px 1px 2px rgba(60, 64, 67, 0.3), 0px 1px 3px 1px rgba(60, 64, 67, 0.15);\n",
              "      fill: #174EA6;\n",
              "    }\n",
              "\n",
              "    [theme=dark] .colab-df-convert {\n",
              "      background-color: #3B4455;\n",
              "      fill: #D2E3FC;\n",
              "    }\n",
              "\n",
              "    [theme=dark] .colab-df-convert:hover {\n",
              "      background-color: #434B5C;\n",
              "      box-shadow: 0px 1px 3px 1px rgba(0, 0, 0, 0.15);\n",
              "      filter: drop-shadow(0px 1px 2px rgba(0, 0, 0, 0.3));\n",
              "      fill: #FFFFFF;\n",
              "    }\n",
              "  </style>\n",
              "\n",
              "      <script>\n",
              "        const buttonEl =\n",
              "          document.querySelector('#df-9796f3f9-2bb1-4493-8f4d-74d789de2f26 button.colab-df-convert');\n",
              "        buttonEl.style.display =\n",
              "          google.colab.kernel.accessAllowed ? 'block' : 'none';\n",
              "\n",
              "        async function convertToInteractive(key) {\n",
              "          const element = document.querySelector('#df-9796f3f9-2bb1-4493-8f4d-74d789de2f26');\n",
              "          const dataTable =\n",
              "            await google.colab.kernel.invokeFunction('convertToInteractive',\n",
              "                                                     [key], {});\n",
              "          if (!dataTable) return;\n",
              "\n",
              "          const docLinkHtml = 'Like what you see? Visit the ' +\n",
              "            '<a target=\"_blank\" href=https://colab.research.google.com/notebooks/data_table.ipynb>data table notebook</a>'\n",
              "            + ' to learn more about interactive tables.';\n",
              "          element.innerHTML = '';\n",
              "          dataTable['output_type'] = 'display_data';\n",
              "          await google.colab.output.renderOutput(dataTable, element);\n",
              "          const docLink = document.createElement('div');\n",
              "          docLink.innerHTML = docLinkHtml;\n",
              "          element.appendChild(docLink);\n",
              "        }\n",
              "      </script>\n",
              "    </div>\n",
              "  </div>\n",
              "  "
            ],
            "text/plain": [
              "   Price Range   Mean_PE  ...  PE on Promotion  PE on No-Promotion\n",
              "0         0.50 -0.096396  ...        -0.125732           -0.195644\n",
              "1         0.51 -0.100464  ...        -0.129848           -0.201765\n",
              "2         0.52 -0.104659  ...        -0.134043           -0.207989\n",
              "3         0.53 -0.108984  ...        -0.138318           -0.214316\n",
              "4         0.54 -0.113442  ...        -0.142674           -0.220747\n",
              "\n",
              "[5 rows x 8 columns]"
            ]
          },
          "metadata": {},
          "execution_count": 20
        }
      ]
    },
    {
      "cell_type": "code",
      "source": [
        "# Visualise the promotion effect on PE\n",
        "# ploting on Mean PE\n",
        "plt.figure(figsize=(9,8))\n",
        "plt.plot(price_range,pe_on_promotion )\n",
        "plt.plot(price_range,pe_on_non_promotion)\n",
        "plt.legend(['Mean-PE','PE with Promotion', 'PE without Promotion'])\n",
        "plt.xlabel('Price Range')\n",
        "plt.ylabel('Elasticity')\n",
        "plt.title( 'Price Elasticity with and without Promotion')\n",
        "plt.show()\n"
      ],
      "metadata": {
        "colab": {
          "base_uri": "https://localhost:8080/",
          "height": 518
        },
        "id": "sshmkzVLuRwE",
        "outputId": "af1843c2-f3a9-41d3-b52e-c1fb276c5221"
      },
      "execution_count": null,
      "outputs": [
        {
          "output_type": "display_data",
          "data": {
            "image/png": "[encoded data removed]",
            "text/plain": [
              "<Figure size 648x576 with 1 Axes>"
            ]
          },
          "metadata": {
            "needs_background": "light"
          }
        }
      ]
    },
    {
      "cell_type": "code",
      "source": [
        "df_price_elasticity.to_csv('/content/drive/MyDrive/Retail/kmean_pca.pickleprice_elasticity')"
      ],
      "metadata": {
        "id": "zHjT5k26vGYE"
      },
      "execution_count": null,
      "outputs": []
    },
    {
      "cell_type": "code",
      "source": [
        ""
      ],
      "metadata": {
        "id": "db0jEWe3ryk9"
      },
      "execution_count": null,
      "outputs": []
    }
  ]
}